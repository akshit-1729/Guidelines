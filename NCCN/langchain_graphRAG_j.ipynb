{
 "cells": [
  {
   "cell_type": "code",
   "execution_count": 1,
   "metadata": {
    "colab": {
     "base_uri": "https://localhost:8080/"
    },
    "id": "Ycv9zE_BagB8",
    "outputId": "51e4eeed-b86e-4888-a2f5-628480bcb8da"
   },
   "outputs": [
    {
     "name": "stdout",
     "output_type": "stream",
     "text": [
      "Note: you may need to restart the kernel to use updated packages.\n"
     ]
    }
   ],
   "source": [
    "%pip install --upgrade --quiet  langchain langchain-community langchain-ollama langchain-experimental neo4j tiktoken yfiles_jupyter_graphs python-dotenv json-repair langchain-openai langchain_core"
   ]
  },
  {
   "cell_type": "code",
   "execution_count": 2,
   "metadata": {
    "colab": {
     "base_uri": "https://localhost:8080/"
    },
    "id": "sS9tyK9Vaw-Z",
    "outputId": "72354e57-b3d1-4de9-b060-5a5b9258adc5"
   },
   "outputs": [
    {
     "data": {
      "text/plain": [
       "False"
      ]
     },
     "execution_count": 2,
     "metadata": {},
     "output_type": "execute_result"
    }
   ],
   "source": [
    "from langchain_core.runnables import  RunnablePassthrough\n",
    "from langchain_core.prompts import ChatPromptTemplate\n",
    "from pydantic import BaseModel, Field\n",
    "from langchain_core.output_parsers import StrOutputParser\n",
    "from langchain_community.graphs import Neo4jGraph\n",
    "from langchain.text_splitter import RecursiveCharacterTextSplitter\n",
    "from langchain_community.chat_models import ChatOllama\n",
    "from langchain_experimental.graph_transformers import LLMGraphTransformer\n",
    "from neo4j import GraphDatabase\n",
    "from yfiles_jupyter_graphs import GraphWidget\n",
    "from langchain_community.vectorstores import Neo4jVector\n",
    "from langchain_community.document_loaders import TextLoader\n",
    "from langchain_community.vectorstores.neo4j_vector import remove_lucene_chars\n",
    "from langchain_ollama import OllamaEmbeddings\n",
    "import os\n",
    "from langchain_experimental.llms.ollama_functions import OllamaFunctions\n",
    "from neo4j import  Driver\n",
    "\n",
    "from dotenv import load_dotenv\n",
    "\n",
    "load_dotenv()"
   ]
  },
  {
   "cell_type": "code",
   "execution_count": null,
   "metadata": {
    "id": "dlWYB15-e7TN"
   },
   "outputs": [],
   "source": [
    "NEO4J_URI=\"neo4j+s://ff9635e0.databases.neo4j.io\"\n",
    "NEO4J_USERNAME=\"neo4j\"\n",
    "NEO4J_PASSWORD=\"FlpkaG2M_jHx2yxE_HkdHFAn7oU2d-ldDxM2rrlvHC8\"\n",
    "AURA_INSTANCEID=\"ff9635e0\"\n",
    "AURA_INSTANCENAME=\"Instance01\""
   ]
  },
  {
   "cell_type": "code",
   "execution_count": null,
   "metadata": {
    "id": "o7vdIaSBbAhV"
   },
   "outputs": [],
   "source": [
    "graph = Neo4jGraph(url=NEO4J_URI, username=NEO4J_USERNAME, password=NEO4J_PASSWORD)"
   ]
  },
  {
   "cell_type": "code",
   "execution_count": 6,
   "metadata": {
    "collapsed": true,
    "id": "Y7HQY3tPfl3B"
   },
   "outputs": [],
   "source": [
    "loader = TextLoader(file_path=\"/Users/akshit/Documents/Projects/Python-all/information-extraction/Guidelines/Graph/dummytext.txt\")\n",
    "docs = loader.load()\n",
    "text_splitter = RecursiveCharacterTextSplitter(chunk_size=250, chunk_overlap=24)\n",
    "documents = text_splitter.split_documents(documents=docs)"
   ]
  },
  {
   "cell_type": "code",
   "execution_count": null,
   "metadata": {
    "colab": {
     "base_uri": "https://localhost:8080/"
    },
    "id": "E2TEnSjKgIU2",
    "outputId": "ef8ac5f4-1a23-437e-b2c4-fe08522306b4"
   },
   "outputs": [
    {
     "name": "stdout",
     "output_type": "stream",
     "text": [
      "Requirement already satisfied: langchain-ollama in /usr/local/lib/python3.10/dist-packages (0.2.0)\n",
      "Requirement already satisfied: langchain-core<0.4.0,>=0.3.0 in /usr/local/lib/python3.10/dist-packages (from langchain-ollama) (0.3.18)\n",
      "Requirement already satisfied: ollama<1,>=0.3.0 in /usr/local/lib/python3.10/dist-packages (from langchain-ollama) (0.3.3)\n",
      "Requirement already satisfied: PyYAML>=5.3 in /usr/local/lib/python3.10/dist-packages (from langchain-core<0.4.0,>=0.3.0->langchain-ollama) (6.0.2)\n",
      "Requirement already satisfied: jsonpatch<2.0,>=1.33 in /usr/local/lib/python3.10/dist-packages (from langchain-core<0.4.0,>=0.3.0->langchain-ollama) (1.33)\n",
      "Requirement already satisfied: langsmith<0.2.0,>=0.1.125 in /usr/local/lib/python3.10/dist-packages (from langchain-core<0.4.0,>=0.3.0->langchain-ollama) (0.1.142)\n",
      "Requirement already satisfied: packaging<25,>=23.2 in /usr/local/lib/python3.10/dist-packages (from langchain-core<0.4.0,>=0.3.0->langchain-ollama) (24.2)\n",
      "Requirement already satisfied: pydantic<3.0.0,>=2.5.2 in /usr/local/lib/python3.10/dist-packages (from langchain-core<0.4.0,>=0.3.0->langchain-ollama) (2.9.2)\n",
      "Requirement already satisfied: tenacity!=8.4.0,<10.0.0,>=8.1.0 in /usr/local/lib/python3.10/dist-packages (from langchain-core<0.4.0,>=0.3.0->langchain-ollama) (9.0.0)\n",
      "Requirement already satisfied: typing-extensions>=4.7 in /usr/local/lib/python3.10/dist-packages (from langchain-core<0.4.0,>=0.3.0->langchain-ollama) (4.12.2)\n",
      "Requirement already satisfied: httpx<0.28.0,>=0.27.0 in /usr/local/lib/python3.10/dist-packages (from ollama<1,>=0.3.0->langchain-ollama) (0.27.2)\n",
      "Requirement already satisfied: anyio in /usr/local/lib/python3.10/dist-packages (from httpx<0.28.0,>=0.27.0->ollama<1,>=0.3.0->langchain-ollama) (3.7.1)\n",
      "Requirement already satisfied: certifi in /usr/local/lib/python3.10/dist-packages (from httpx<0.28.0,>=0.27.0->ollama<1,>=0.3.0->langchain-ollama) (2024.8.30)\n",
      "Requirement already satisfied: httpcore==1.* in /usr/local/lib/python3.10/dist-packages (from httpx<0.28.0,>=0.27.0->ollama<1,>=0.3.0->langchain-ollama) (1.0.6)\n",
      "Requirement already satisfied: idna in /usr/local/lib/python3.10/dist-packages (from httpx<0.28.0,>=0.27.0->ollama<1,>=0.3.0->langchain-ollama) (3.10)\n",
      "Requirement already satisfied: sniffio in /usr/local/lib/python3.10/dist-packages (from httpx<0.28.0,>=0.27.0->ollama<1,>=0.3.0->langchain-ollama) (1.3.1)\n",
      "Requirement already satisfied: h11<0.15,>=0.13 in /usr/local/lib/python3.10/dist-packages (from httpcore==1.*->httpx<0.28.0,>=0.27.0->ollama<1,>=0.3.0->langchain-ollama) (0.14.0)\n",
      "Requirement already satisfied: jsonpointer>=1.9 in /usr/local/lib/python3.10/dist-packages (from jsonpatch<2.0,>=1.33->langchain-core<0.4.0,>=0.3.0->langchain-ollama) (3.0.0)\n",
      "Requirement already satisfied: orjson<4.0.0,>=3.9.14 in /usr/local/lib/python3.10/dist-packages (from langsmith<0.2.0,>=0.1.125->langchain-core<0.4.0,>=0.3.0->langchain-ollama) (3.10.11)\n",
      "Requirement already satisfied: requests<3,>=2 in /usr/local/lib/python3.10/dist-packages (from langsmith<0.2.0,>=0.1.125->langchain-core<0.4.0,>=0.3.0->langchain-ollama) (2.32.3)\n",
      "Requirement already satisfied: requests-toolbelt<2.0.0,>=1.0.0 in /usr/local/lib/python3.10/dist-packages (from langsmith<0.2.0,>=0.1.125->langchain-core<0.4.0,>=0.3.0->langchain-ollama) (1.0.0)\n",
      "Requirement already satisfied: annotated-types>=0.6.0 in /usr/local/lib/python3.10/dist-packages (from pydantic<3.0.0,>=2.5.2->langchain-core<0.4.0,>=0.3.0->langchain-ollama) (0.7.0)\n",
      "Requirement already satisfied: pydantic-core==2.23.4 in /usr/local/lib/python3.10/dist-packages (from pydantic<3.0.0,>=2.5.2->langchain-core<0.4.0,>=0.3.0->langchain-ollama) (2.23.4)\n",
      "Requirement already satisfied: charset-normalizer<4,>=2 in /usr/local/lib/python3.10/dist-packages (from requests<3,>=2->langsmith<0.2.0,>=0.1.125->langchain-core<0.4.0,>=0.3.0->langchain-ollama) (3.4.0)\n",
      "Requirement already satisfied: urllib3<3,>=1.21.1 in /usr/local/lib/python3.10/dist-packages (from requests<3,>=2->langsmith<0.2.0,>=0.1.125->langchain-core<0.4.0,>=0.3.0->langchain-ollama) (2.2.3)\n",
      "Requirement already satisfied: exceptiongroup in /usr/local/lib/python3.10/dist-packages (from anyio->httpx<0.28.0,>=0.27.0->ollama<1,>=0.3.0->langchain-ollama) (1.2.2)\n"
     ]
    }
   ],
   "source": [
    "!pip install -U langchain-ollama"
   ]
  },
  {
   "cell_type": "code",
   "execution_count": 7,
   "metadata": {
    "colab": {
     "base_uri": "https://localhost:8080/"
    },
    "id": "ChBAFUt6f0fB",
    "outputId": "93590b7d-c6ff-42e4-f7cd-113fddd5df43"
   },
   "outputs": [
    {
     "name": "stderr",
     "output_type": "stream",
     "text": [
      "/var/folders/bj/8gzt5tq51b1c9qlynhj982vc0000gn/T/ipykernel_45235/3456235371.py:1: LangChainDeprecationWarning: The class `OllamaFunctions` was deprecated in LangChain 0.0.64 and will be removed in 1.0. An updated version of the class exists in the :class:`~langchain-ollama package and should be used instead. To use it run `pip install -U :class:`~langchain-ollama` and import as `from :class:`~langchain_ollama import ChatOllama``.\n",
      "  llm = OllamaFunctions(model=\"llama3.1\", temperature=0, format=\"json\")\n"
     ]
    }
   ],
   "source": [
    "llm = OllamaFunctions(model=\"llama3.1\", temperature=0, format=\"json\")\n",
    "\n",
    "llm_transformer = LLMGraphTransformer(llm=llm)\n",
    "\n",
    "# graph_documents = llm_transformer.convert_to_graph_documents(documents)"
   ]
  },
  {
   "cell_type": "code",
   "execution_count": 8,
   "metadata": {
    "colab": {
     "base_uri": "https://localhost:8080/",
     "height": 704
    },
    "id": "UMnFWOwS_Pqh",
    "outputId": "b34cf696-eced-402d-b28e-de5f793187ea"
   },
   "outputs": [
    {
     "ename": "OllamaEndpointNotFoundError",
     "evalue": "Ollama call failed with status code 404. Maybe your model is not found and you should pull the model with `ollama pull llama3.1`.",
     "output_type": "error",
     "traceback": [
      "\u001b[0;31m---------------------------------------------------------------------------\u001b[0m",
      "\u001b[0;31mOllamaEndpointNotFoundError\u001b[0m               Traceback (most recent call last)",
      "Cell \u001b[0;32mIn[8], line 1\u001b[0m\n\u001b[0;32m----> 1\u001b[0m graph_documents \u001b[38;5;241m=\u001b[39m \u001b[43mllm_transformer\u001b[49m\u001b[38;5;241;43m.\u001b[39;49m\u001b[43mconvert_to_graph_documents\u001b[49m\u001b[43m(\u001b[49m\u001b[43mdocuments\u001b[49m\u001b[43m)\u001b[49m\n",
      "File \u001b[0;32m/opt/homebrew/Caskroom/miniconda/base/envs/ml_new/lib/python3.12/site-packages/langchain_experimental/graph_transformers/llm.py:923\u001b[0m, in \u001b[0;36mLLMGraphTransformer.convert_to_graph_documents\u001b[0;34m(self, documents, config)\u001b[0m\n\u001b[1;32m    911\u001b[0m \u001b[38;5;28;01mdef\u001b[39;00m \u001b[38;5;21mconvert_to_graph_documents\u001b[39m(\n\u001b[1;32m    912\u001b[0m     \u001b[38;5;28mself\u001b[39m, documents: Sequence[Document], config: Optional[RunnableConfig] \u001b[38;5;241m=\u001b[39m \u001b[38;5;28;01mNone\u001b[39;00m\n\u001b[1;32m    913\u001b[0m ) \u001b[38;5;241m-\u001b[39m\u001b[38;5;241m>\u001b[39m List[GraphDocument]:\n\u001b[1;32m    914\u001b[0m \u001b[38;5;250m    \u001b[39m\u001b[38;5;124;03m\"\"\"Convert a sequence of documents into graph documents.\u001b[39;00m\n\u001b[1;32m    915\u001b[0m \n\u001b[1;32m    916\u001b[0m \u001b[38;5;124;03m    Args:\u001b[39;00m\n\u001b[0;32m   (...)\u001b[0m\n\u001b[1;32m    921\u001b[0m \u001b[38;5;124;03m        Sequence[GraphDocument]: The transformed documents as graphs.\u001b[39;00m\n\u001b[1;32m    922\u001b[0m \u001b[38;5;124;03m    \"\"\"\u001b[39;00m\n\u001b[0;32m--> 923\u001b[0m     \u001b[38;5;28;01mreturn\u001b[39;00m [\u001b[38;5;28;43mself\u001b[39;49m\u001b[38;5;241;43m.\u001b[39;49m\u001b[43mprocess_response\u001b[49m\u001b[43m(\u001b[49m\u001b[43mdocument\u001b[49m\u001b[43m,\u001b[49m\u001b[43m \u001b[49m\u001b[43mconfig\u001b[49m\u001b[43m)\u001b[49m \u001b[38;5;28;01mfor\u001b[39;00m document \u001b[38;5;129;01min\u001b[39;00m documents]\n",
      "File \u001b[0;32m/opt/homebrew/Caskroom/miniconda/base/envs/ml_new/lib/python3.12/site-packages/langchain_experimental/graph_transformers/llm.py:830\u001b[0m, in \u001b[0;36mLLMGraphTransformer.process_response\u001b[0;34m(self, document, config)\u001b[0m\n\u001b[1;32m    825\u001b[0m \u001b[38;5;250m\u001b[39m\u001b[38;5;124;03m\"\"\"\u001b[39;00m\n\u001b[1;32m    826\u001b[0m \u001b[38;5;124;03mProcesses a single document, transforming it into a graph document using\u001b[39;00m\n\u001b[1;32m    827\u001b[0m \u001b[38;5;124;03man LLM based on the model's schema and constraints.\u001b[39;00m\n\u001b[1;32m    828\u001b[0m \u001b[38;5;124;03m\"\"\"\u001b[39;00m\n\u001b[1;32m    829\u001b[0m text \u001b[38;5;241m=\u001b[39m document\u001b[38;5;241m.\u001b[39mpage_content\n\u001b[0;32m--> 830\u001b[0m raw_schema \u001b[38;5;241m=\u001b[39m \u001b[38;5;28;43mself\u001b[39;49m\u001b[38;5;241;43m.\u001b[39;49m\u001b[43mchain\u001b[49m\u001b[38;5;241;43m.\u001b[39;49m\u001b[43minvoke\u001b[49m\u001b[43m(\u001b[49m\u001b[43m{\u001b[49m\u001b[38;5;124;43m\"\u001b[39;49m\u001b[38;5;124;43minput\u001b[39;49m\u001b[38;5;124;43m\"\u001b[39;49m\u001b[43m:\u001b[49m\u001b[43m \u001b[49m\u001b[43mtext\u001b[49m\u001b[43m}\u001b[49m\u001b[43m,\u001b[49m\u001b[43m \u001b[49m\u001b[43mconfig\u001b[49m\u001b[38;5;241;43m=\u001b[39;49m\u001b[43mconfig\u001b[49m\u001b[43m)\u001b[49m\n\u001b[1;32m    831\u001b[0m \u001b[38;5;28;01mif\u001b[39;00m \u001b[38;5;28mself\u001b[39m\u001b[38;5;241m.\u001b[39m_function_call:\n\u001b[1;32m    832\u001b[0m     raw_schema \u001b[38;5;241m=\u001b[39m cast(Dict[Any, Any], raw_schema)\n",
      "File \u001b[0;32m/opt/homebrew/Caskroom/miniconda/base/envs/ml_new/lib/python3.12/site-packages/langchain_core/runnables/base.py:3024\u001b[0m, in \u001b[0;36mRunnableSequence.invoke\u001b[0;34m(self, input, config, **kwargs)\u001b[0m\n\u001b[1;32m   3022\u001b[0m             \u001b[38;5;28minput\u001b[39m \u001b[38;5;241m=\u001b[39m context\u001b[38;5;241m.\u001b[39mrun(step\u001b[38;5;241m.\u001b[39minvoke, \u001b[38;5;28minput\u001b[39m, config, \u001b[38;5;241m*\u001b[39m\u001b[38;5;241m*\u001b[39mkwargs)\n\u001b[1;32m   3023\u001b[0m         \u001b[38;5;28;01melse\u001b[39;00m:\n\u001b[0;32m-> 3024\u001b[0m             \u001b[38;5;28minput\u001b[39m \u001b[38;5;241m=\u001b[39m \u001b[43mcontext\u001b[49m\u001b[38;5;241;43m.\u001b[39;49m\u001b[43mrun\u001b[49m\u001b[43m(\u001b[49m\u001b[43mstep\u001b[49m\u001b[38;5;241;43m.\u001b[39;49m\u001b[43minvoke\u001b[49m\u001b[43m,\u001b[49m\u001b[43m \u001b[49m\u001b[38;5;28;43minput\u001b[39;49m\u001b[43m,\u001b[49m\u001b[43m \u001b[49m\u001b[43mconfig\u001b[49m\u001b[43m)\u001b[49m\n\u001b[1;32m   3025\u001b[0m \u001b[38;5;66;03m# finish the root run\u001b[39;00m\n\u001b[1;32m   3026\u001b[0m \u001b[38;5;28;01mexcept\u001b[39;00m \u001b[38;5;167;01mBaseException\u001b[39;00m \u001b[38;5;28;01mas\u001b[39;00m e:\n",
      "File \u001b[0;32m/opt/homebrew/Caskroom/miniconda/base/envs/ml_new/lib/python3.12/site-packages/langchain_core/runnables/base.py:3727\u001b[0m, in \u001b[0;36mRunnableParallel.invoke\u001b[0;34m(self, input, config, **kwargs)\u001b[0m\n\u001b[1;32m   3722\u001b[0m     \u001b[38;5;28;01mwith\u001b[39;00m get_executor_for_config(config) \u001b[38;5;28;01mas\u001b[39;00m executor:\n\u001b[1;32m   3723\u001b[0m         futures \u001b[38;5;241m=\u001b[39m [\n\u001b[1;32m   3724\u001b[0m             executor\u001b[38;5;241m.\u001b[39msubmit(_invoke_step, step, \u001b[38;5;28minput\u001b[39m, config, key)\n\u001b[1;32m   3725\u001b[0m             \u001b[38;5;28;01mfor\u001b[39;00m key, step \u001b[38;5;129;01min\u001b[39;00m steps\u001b[38;5;241m.\u001b[39mitems()\n\u001b[1;32m   3726\u001b[0m         ]\n\u001b[0;32m-> 3727\u001b[0m         output \u001b[38;5;241m=\u001b[39m {key: \u001b[43mfuture\u001b[49m\u001b[38;5;241;43m.\u001b[39;49m\u001b[43mresult\u001b[49m\u001b[43m(\u001b[49m\u001b[43m)\u001b[49m \u001b[38;5;28;01mfor\u001b[39;00m key, future \u001b[38;5;129;01min\u001b[39;00m \u001b[38;5;28mzip\u001b[39m(steps, futures)}\n\u001b[1;32m   3728\u001b[0m \u001b[38;5;66;03m# finish the root run\u001b[39;00m\n\u001b[1;32m   3729\u001b[0m \u001b[38;5;28;01mexcept\u001b[39;00m \u001b[38;5;167;01mBaseException\u001b[39;00m \u001b[38;5;28;01mas\u001b[39;00m e:\n",
      "File \u001b[0;32m/opt/homebrew/Caskroom/miniconda/base/envs/ml_new/lib/python3.12/concurrent/futures/_base.py:456\u001b[0m, in \u001b[0;36mFuture.result\u001b[0;34m(self, timeout)\u001b[0m\n\u001b[1;32m    454\u001b[0m     \u001b[38;5;28;01mraise\u001b[39;00m CancelledError()\n\u001b[1;32m    455\u001b[0m \u001b[38;5;28;01melif\u001b[39;00m \u001b[38;5;28mself\u001b[39m\u001b[38;5;241m.\u001b[39m_state \u001b[38;5;241m==\u001b[39m FINISHED:\n\u001b[0;32m--> 456\u001b[0m     \u001b[38;5;28;01mreturn\u001b[39;00m \u001b[38;5;28;43mself\u001b[39;49m\u001b[38;5;241;43m.\u001b[39;49m\u001b[43m__get_result\u001b[49m\u001b[43m(\u001b[49m\u001b[43m)\u001b[49m\n\u001b[1;32m    457\u001b[0m \u001b[38;5;28;01melse\u001b[39;00m:\n\u001b[1;32m    458\u001b[0m     \u001b[38;5;28;01mraise\u001b[39;00m \u001b[38;5;167;01mTimeoutError\u001b[39;00m()\n",
      "File \u001b[0;32m/opt/homebrew/Caskroom/miniconda/base/envs/ml_new/lib/python3.12/concurrent/futures/_base.py:401\u001b[0m, in \u001b[0;36mFuture.__get_result\u001b[0;34m(self)\u001b[0m\n\u001b[1;32m    399\u001b[0m \u001b[38;5;28;01mif\u001b[39;00m \u001b[38;5;28mself\u001b[39m\u001b[38;5;241m.\u001b[39m_exception:\n\u001b[1;32m    400\u001b[0m     \u001b[38;5;28;01mtry\u001b[39;00m:\n\u001b[0;32m--> 401\u001b[0m         \u001b[38;5;28;01mraise\u001b[39;00m \u001b[38;5;28mself\u001b[39m\u001b[38;5;241m.\u001b[39m_exception\n\u001b[1;32m    402\u001b[0m     \u001b[38;5;28;01mfinally\u001b[39;00m:\n\u001b[1;32m    403\u001b[0m         \u001b[38;5;66;03m# Break a reference cycle with the exception in self._exception\u001b[39;00m\n\u001b[1;32m    404\u001b[0m         \u001b[38;5;28mself\u001b[39m \u001b[38;5;241m=\u001b[39m \u001b[38;5;28;01mNone\u001b[39;00m\n",
      "File \u001b[0;32m/opt/homebrew/Caskroom/miniconda/base/envs/ml_new/lib/python3.12/concurrent/futures/thread.py:58\u001b[0m, in \u001b[0;36m_WorkItem.run\u001b[0;34m(self)\u001b[0m\n\u001b[1;32m     55\u001b[0m     \u001b[38;5;28;01mreturn\u001b[39;00m\n\u001b[1;32m     57\u001b[0m \u001b[38;5;28;01mtry\u001b[39;00m:\n\u001b[0;32m---> 58\u001b[0m     result \u001b[38;5;241m=\u001b[39m \u001b[38;5;28;43mself\u001b[39;49m\u001b[38;5;241;43m.\u001b[39;49m\u001b[43mfn\u001b[49m\u001b[43m(\u001b[49m\u001b[38;5;241;43m*\u001b[39;49m\u001b[38;5;28;43mself\u001b[39;49m\u001b[38;5;241;43m.\u001b[39;49m\u001b[43margs\u001b[49m\u001b[43m,\u001b[49m\u001b[43m \u001b[49m\u001b[38;5;241;43m*\u001b[39;49m\u001b[38;5;241;43m*\u001b[39;49m\u001b[38;5;28;43mself\u001b[39;49m\u001b[38;5;241;43m.\u001b[39;49m\u001b[43mkwargs\u001b[49m\u001b[43m)\u001b[49m\n\u001b[1;32m     59\u001b[0m \u001b[38;5;28;01mexcept\u001b[39;00m \u001b[38;5;167;01mBaseException\u001b[39;00m \u001b[38;5;28;01mas\u001b[39;00m exc:\n\u001b[1;32m     60\u001b[0m     \u001b[38;5;28mself\u001b[39m\u001b[38;5;241m.\u001b[39mfuture\u001b[38;5;241m.\u001b[39mset_exception(exc)\n",
      "File \u001b[0;32m/opt/homebrew/Caskroom/miniconda/base/envs/ml_new/lib/python3.12/site-packages/langchain_core/runnables/base.py:3711\u001b[0m, in \u001b[0;36mRunnableParallel.invoke.<locals>._invoke_step\u001b[0;34m(step, input, config, key)\u001b[0m\n\u001b[1;32m   3709\u001b[0m context \u001b[38;5;241m=\u001b[39m copy_context()\n\u001b[1;32m   3710\u001b[0m context\u001b[38;5;241m.\u001b[39mrun(_set_config_context, child_config)\n\u001b[0;32m-> 3711\u001b[0m \u001b[38;5;28;01mreturn\u001b[39;00m \u001b[43mcontext\u001b[49m\u001b[38;5;241;43m.\u001b[39;49m\u001b[43mrun\u001b[49m\u001b[43m(\u001b[49m\n\u001b[1;32m   3712\u001b[0m \u001b[43m    \u001b[49m\u001b[43mstep\u001b[49m\u001b[38;5;241;43m.\u001b[39;49m\u001b[43minvoke\u001b[49m\u001b[43m,\u001b[49m\n\u001b[1;32m   3713\u001b[0m \u001b[43m    \u001b[49m\u001b[38;5;28;43minput\u001b[39;49m\u001b[43m,\u001b[49m\n\u001b[1;32m   3714\u001b[0m \u001b[43m    \u001b[49m\u001b[43mchild_config\u001b[49m\u001b[43m,\u001b[49m\n\u001b[1;32m   3715\u001b[0m \u001b[43m\u001b[49m\u001b[43m)\u001b[49m\n",
      "File \u001b[0;32m/opt/homebrew/Caskroom/miniconda/base/envs/ml_new/lib/python3.12/site-packages/langchain_core/runnables/base.py:5354\u001b[0m, in \u001b[0;36mRunnableBindingBase.invoke\u001b[0;34m(self, input, config, **kwargs)\u001b[0m\n\u001b[1;32m   5348\u001b[0m \u001b[38;5;28;01mdef\u001b[39;00m \u001b[38;5;21minvoke\u001b[39m(\n\u001b[1;32m   5349\u001b[0m     \u001b[38;5;28mself\u001b[39m,\n\u001b[1;32m   5350\u001b[0m     \u001b[38;5;28minput\u001b[39m: Input,\n\u001b[1;32m   5351\u001b[0m     config: Optional[RunnableConfig] \u001b[38;5;241m=\u001b[39m \u001b[38;5;28;01mNone\u001b[39;00m,\n\u001b[1;32m   5352\u001b[0m     \u001b[38;5;241m*\u001b[39m\u001b[38;5;241m*\u001b[39mkwargs: Optional[Any],\n\u001b[1;32m   5353\u001b[0m ) \u001b[38;5;241m-\u001b[39m\u001b[38;5;241m>\u001b[39m Output:\n\u001b[0;32m-> 5354\u001b[0m     \u001b[38;5;28;01mreturn\u001b[39;00m \u001b[38;5;28;43mself\u001b[39;49m\u001b[38;5;241;43m.\u001b[39;49m\u001b[43mbound\u001b[49m\u001b[38;5;241;43m.\u001b[39;49m\u001b[43minvoke\u001b[49m\u001b[43m(\u001b[49m\n\u001b[1;32m   5355\u001b[0m \u001b[43m        \u001b[49m\u001b[38;5;28;43minput\u001b[39;49m\u001b[43m,\u001b[49m\n\u001b[1;32m   5356\u001b[0m \u001b[43m        \u001b[49m\u001b[38;5;28;43mself\u001b[39;49m\u001b[38;5;241;43m.\u001b[39;49m\u001b[43m_merge_configs\u001b[49m\u001b[43m(\u001b[49m\u001b[43mconfig\u001b[49m\u001b[43m)\u001b[49m\u001b[43m,\u001b[49m\n\u001b[1;32m   5357\u001b[0m \u001b[43m        \u001b[49m\u001b[38;5;241;43m*\u001b[39;49m\u001b[38;5;241;43m*\u001b[39;49m\u001b[43m{\u001b[49m\u001b[38;5;241;43m*\u001b[39;49m\u001b[38;5;241;43m*\u001b[39;49m\u001b[38;5;28;43mself\u001b[39;49m\u001b[38;5;241;43m.\u001b[39;49m\u001b[43mkwargs\u001b[49m\u001b[43m,\u001b[49m\u001b[43m \u001b[49m\u001b[38;5;241;43m*\u001b[39;49m\u001b[38;5;241;43m*\u001b[39;49m\u001b[43mkwargs\u001b[49m\u001b[43m}\u001b[49m\u001b[43m,\u001b[49m\n\u001b[1;32m   5358\u001b[0m \u001b[43m    \u001b[49m\u001b[43m)\u001b[49m\n",
      "File \u001b[0;32m/opt/homebrew/Caskroom/miniconda/base/envs/ml_new/lib/python3.12/site-packages/langchain_core/language_models/chat_models.py:286\u001b[0m, in \u001b[0;36mBaseChatModel.invoke\u001b[0;34m(self, input, config, stop, **kwargs)\u001b[0m\n\u001b[1;32m    275\u001b[0m \u001b[38;5;28;01mdef\u001b[39;00m \u001b[38;5;21minvoke\u001b[39m(\n\u001b[1;32m    276\u001b[0m     \u001b[38;5;28mself\u001b[39m,\n\u001b[1;32m    277\u001b[0m     \u001b[38;5;28minput\u001b[39m: LanguageModelInput,\n\u001b[0;32m   (...)\u001b[0m\n\u001b[1;32m    281\u001b[0m     \u001b[38;5;241m*\u001b[39m\u001b[38;5;241m*\u001b[39mkwargs: Any,\n\u001b[1;32m    282\u001b[0m ) \u001b[38;5;241m-\u001b[39m\u001b[38;5;241m>\u001b[39m BaseMessage:\n\u001b[1;32m    283\u001b[0m     config \u001b[38;5;241m=\u001b[39m ensure_config(config)\n\u001b[1;32m    284\u001b[0m     \u001b[38;5;28;01mreturn\u001b[39;00m cast(\n\u001b[1;32m    285\u001b[0m         ChatGeneration,\n\u001b[0;32m--> 286\u001b[0m         \u001b[38;5;28;43mself\u001b[39;49m\u001b[38;5;241;43m.\u001b[39;49m\u001b[43mgenerate_prompt\u001b[49m\u001b[43m(\u001b[49m\n\u001b[1;32m    287\u001b[0m \u001b[43m            \u001b[49m\u001b[43m[\u001b[49m\u001b[38;5;28;43mself\u001b[39;49m\u001b[38;5;241;43m.\u001b[39;49m\u001b[43m_convert_input\u001b[49m\u001b[43m(\u001b[49m\u001b[38;5;28;43minput\u001b[39;49m\u001b[43m)\u001b[49m\u001b[43m]\u001b[49m\u001b[43m,\u001b[49m\n\u001b[1;32m    288\u001b[0m \u001b[43m            \u001b[49m\u001b[43mstop\u001b[49m\u001b[38;5;241;43m=\u001b[39;49m\u001b[43mstop\u001b[49m\u001b[43m,\u001b[49m\n\u001b[1;32m    289\u001b[0m \u001b[43m            \u001b[49m\u001b[43mcallbacks\u001b[49m\u001b[38;5;241;43m=\u001b[39;49m\u001b[43mconfig\u001b[49m\u001b[38;5;241;43m.\u001b[39;49m\u001b[43mget\u001b[49m\u001b[43m(\u001b[49m\u001b[38;5;124;43m\"\u001b[39;49m\u001b[38;5;124;43mcallbacks\u001b[39;49m\u001b[38;5;124;43m\"\u001b[39;49m\u001b[43m)\u001b[49m\u001b[43m,\u001b[49m\n\u001b[1;32m    290\u001b[0m \u001b[43m            \u001b[49m\u001b[43mtags\u001b[49m\u001b[38;5;241;43m=\u001b[39;49m\u001b[43mconfig\u001b[49m\u001b[38;5;241;43m.\u001b[39;49m\u001b[43mget\u001b[49m\u001b[43m(\u001b[49m\u001b[38;5;124;43m\"\u001b[39;49m\u001b[38;5;124;43mtags\u001b[39;49m\u001b[38;5;124;43m\"\u001b[39;49m\u001b[43m)\u001b[49m\u001b[43m,\u001b[49m\n\u001b[1;32m    291\u001b[0m \u001b[43m            \u001b[49m\u001b[43mmetadata\u001b[49m\u001b[38;5;241;43m=\u001b[39;49m\u001b[43mconfig\u001b[49m\u001b[38;5;241;43m.\u001b[39;49m\u001b[43mget\u001b[49m\u001b[43m(\u001b[49m\u001b[38;5;124;43m\"\u001b[39;49m\u001b[38;5;124;43mmetadata\u001b[39;49m\u001b[38;5;124;43m\"\u001b[39;49m\u001b[43m)\u001b[49m\u001b[43m,\u001b[49m\n\u001b[1;32m    292\u001b[0m \u001b[43m            \u001b[49m\u001b[43mrun_name\u001b[49m\u001b[38;5;241;43m=\u001b[39;49m\u001b[43mconfig\u001b[49m\u001b[38;5;241;43m.\u001b[39;49m\u001b[43mget\u001b[49m\u001b[43m(\u001b[49m\u001b[38;5;124;43m\"\u001b[39;49m\u001b[38;5;124;43mrun_name\u001b[39;49m\u001b[38;5;124;43m\"\u001b[39;49m\u001b[43m)\u001b[49m\u001b[43m,\u001b[49m\n\u001b[1;32m    293\u001b[0m \u001b[43m            \u001b[49m\u001b[43mrun_id\u001b[49m\u001b[38;5;241;43m=\u001b[39;49m\u001b[43mconfig\u001b[49m\u001b[38;5;241;43m.\u001b[39;49m\u001b[43mpop\u001b[49m\u001b[43m(\u001b[49m\u001b[38;5;124;43m\"\u001b[39;49m\u001b[38;5;124;43mrun_id\u001b[39;49m\u001b[38;5;124;43m\"\u001b[39;49m\u001b[43m,\u001b[49m\u001b[43m \u001b[49m\u001b[38;5;28;43;01mNone\u001b[39;49;00m\u001b[43m)\u001b[49m\u001b[43m,\u001b[49m\n\u001b[1;32m    294\u001b[0m \u001b[43m            \u001b[49m\u001b[38;5;241;43m*\u001b[39;49m\u001b[38;5;241;43m*\u001b[39;49m\u001b[43mkwargs\u001b[49m\u001b[43m,\u001b[49m\n\u001b[1;32m    295\u001b[0m \u001b[43m        \u001b[49m\u001b[43m)\u001b[49m\u001b[38;5;241m.\u001b[39mgenerations[\u001b[38;5;241m0\u001b[39m][\u001b[38;5;241m0\u001b[39m],\n\u001b[1;32m    296\u001b[0m     )\u001b[38;5;241m.\u001b[39mmessage\n",
      "File \u001b[0;32m/opt/homebrew/Caskroom/miniconda/base/envs/ml_new/lib/python3.12/site-packages/langchain_core/language_models/chat_models.py:786\u001b[0m, in \u001b[0;36mBaseChatModel.generate_prompt\u001b[0;34m(self, prompts, stop, callbacks, **kwargs)\u001b[0m\n\u001b[1;32m    778\u001b[0m \u001b[38;5;28;01mdef\u001b[39;00m \u001b[38;5;21mgenerate_prompt\u001b[39m(\n\u001b[1;32m    779\u001b[0m     \u001b[38;5;28mself\u001b[39m,\n\u001b[1;32m    780\u001b[0m     prompts: \u001b[38;5;28mlist\u001b[39m[PromptValue],\n\u001b[0;32m   (...)\u001b[0m\n\u001b[1;32m    783\u001b[0m     \u001b[38;5;241m*\u001b[39m\u001b[38;5;241m*\u001b[39mkwargs: Any,\n\u001b[1;32m    784\u001b[0m ) \u001b[38;5;241m-\u001b[39m\u001b[38;5;241m>\u001b[39m LLMResult:\n\u001b[1;32m    785\u001b[0m     prompt_messages \u001b[38;5;241m=\u001b[39m [p\u001b[38;5;241m.\u001b[39mto_messages() \u001b[38;5;28;01mfor\u001b[39;00m p \u001b[38;5;129;01min\u001b[39;00m prompts]\n\u001b[0;32m--> 786\u001b[0m     \u001b[38;5;28;01mreturn\u001b[39;00m \u001b[38;5;28;43mself\u001b[39;49m\u001b[38;5;241;43m.\u001b[39;49m\u001b[43mgenerate\u001b[49m\u001b[43m(\u001b[49m\u001b[43mprompt_messages\u001b[49m\u001b[43m,\u001b[49m\u001b[43m \u001b[49m\u001b[43mstop\u001b[49m\u001b[38;5;241;43m=\u001b[39;49m\u001b[43mstop\u001b[49m\u001b[43m,\u001b[49m\u001b[43m \u001b[49m\u001b[43mcallbacks\u001b[49m\u001b[38;5;241;43m=\u001b[39;49m\u001b[43mcallbacks\u001b[49m\u001b[43m,\u001b[49m\u001b[43m \u001b[49m\u001b[38;5;241;43m*\u001b[39;49m\u001b[38;5;241;43m*\u001b[39;49m\u001b[43mkwargs\u001b[49m\u001b[43m)\u001b[49m\n",
      "File \u001b[0;32m/opt/homebrew/Caskroom/miniconda/base/envs/ml_new/lib/python3.12/site-packages/langchain_core/language_models/chat_models.py:643\u001b[0m, in \u001b[0;36mBaseChatModel.generate\u001b[0;34m(self, messages, stop, callbacks, tags, metadata, run_name, run_id, **kwargs)\u001b[0m\n\u001b[1;32m    641\u001b[0m         \u001b[38;5;28;01mif\u001b[39;00m run_managers:\n\u001b[1;32m    642\u001b[0m             run_managers[i]\u001b[38;5;241m.\u001b[39mon_llm_error(e, response\u001b[38;5;241m=\u001b[39mLLMResult(generations\u001b[38;5;241m=\u001b[39m[]))\n\u001b[0;32m--> 643\u001b[0m         \u001b[38;5;28;01mraise\u001b[39;00m e\n\u001b[1;32m    644\u001b[0m flattened_outputs \u001b[38;5;241m=\u001b[39m [\n\u001b[1;32m    645\u001b[0m     LLMResult(generations\u001b[38;5;241m=\u001b[39m[res\u001b[38;5;241m.\u001b[39mgenerations], llm_output\u001b[38;5;241m=\u001b[39mres\u001b[38;5;241m.\u001b[39mllm_output)  \u001b[38;5;66;03m# type: ignore[list-item]\u001b[39;00m\n\u001b[1;32m    646\u001b[0m     \u001b[38;5;28;01mfor\u001b[39;00m res \u001b[38;5;129;01min\u001b[39;00m results\n\u001b[1;32m    647\u001b[0m ]\n\u001b[1;32m    648\u001b[0m llm_output \u001b[38;5;241m=\u001b[39m \u001b[38;5;28mself\u001b[39m\u001b[38;5;241m.\u001b[39m_combine_llm_outputs([res\u001b[38;5;241m.\u001b[39mllm_output \u001b[38;5;28;01mfor\u001b[39;00m res \u001b[38;5;129;01min\u001b[39;00m results])\n",
      "File \u001b[0;32m/opt/homebrew/Caskroom/miniconda/base/envs/ml_new/lib/python3.12/site-packages/langchain_core/language_models/chat_models.py:633\u001b[0m, in \u001b[0;36mBaseChatModel.generate\u001b[0;34m(self, messages, stop, callbacks, tags, metadata, run_name, run_id, **kwargs)\u001b[0m\n\u001b[1;32m    630\u001b[0m \u001b[38;5;28;01mfor\u001b[39;00m i, m \u001b[38;5;129;01min\u001b[39;00m \u001b[38;5;28menumerate\u001b[39m(messages):\n\u001b[1;32m    631\u001b[0m     \u001b[38;5;28;01mtry\u001b[39;00m:\n\u001b[1;32m    632\u001b[0m         results\u001b[38;5;241m.\u001b[39mappend(\n\u001b[0;32m--> 633\u001b[0m             \u001b[38;5;28;43mself\u001b[39;49m\u001b[38;5;241;43m.\u001b[39;49m\u001b[43m_generate_with_cache\u001b[49m\u001b[43m(\u001b[49m\n\u001b[1;32m    634\u001b[0m \u001b[43m                \u001b[49m\u001b[43mm\u001b[49m\u001b[43m,\u001b[49m\n\u001b[1;32m    635\u001b[0m \u001b[43m                \u001b[49m\u001b[43mstop\u001b[49m\u001b[38;5;241;43m=\u001b[39;49m\u001b[43mstop\u001b[49m\u001b[43m,\u001b[49m\n\u001b[1;32m    636\u001b[0m \u001b[43m                \u001b[49m\u001b[43mrun_manager\u001b[49m\u001b[38;5;241;43m=\u001b[39;49m\u001b[43mrun_managers\u001b[49m\u001b[43m[\u001b[49m\u001b[43mi\u001b[49m\u001b[43m]\u001b[49m\u001b[43m \u001b[49m\u001b[38;5;28;43;01mif\u001b[39;49;00m\u001b[43m \u001b[49m\u001b[43mrun_managers\u001b[49m\u001b[43m \u001b[49m\u001b[38;5;28;43;01melse\u001b[39;49;00m\u001b[43m \u001b[49m\u001b[38;5;28;43;01mNone\u001b[39;49;00m\u001b[43m,\u001b[49m\n\u001b[1;32m    637\u001b[0m \u001b[43m                \u001b[49m\u001b[38;5;241;43m*\u001b[39;49m\u001b[38;5;241;43m*\u001b[39;49m\u001b[43mkwargs\u001b[49m\u001b[43m,\u001b[49m\n\u001b[1;32m    638\u001b[0m \u001b[43m            \u001b[49m\u001b[43m)\u001b[49m\n\u001b[1;32m    639\u001b[0m         )\n\u001b[1;32m    640\u001b[0m     \u001b[38;5;28;01mexcept\u001b[39;00m \u001b[38;5;167;01mBaseException\u001b[39;00m \u001b[38;5;28;01mas\u001b[39;00m e:\n\u001b[1;32m    641\u001b[0m         \u001b[38;5;28;01mif\u001b[39;00m run_managers:\n",
      "File \u001b[0;32m/opt/homebrew/Caskroom/miniconda/base/envs/ml_new/lib/python3.12/site-packages/langchain_core/language_models/chat_models.py:851\u001b[0m, in \u001b[0;36mBaseChatModel._generate_with_cache\u001b[0;34m(self, messages, stop, run_manager, **kwargs)\u001b[0m\n\u001b[1;32m    849\u001b[0m \u001b[38;5;28;01melse\u001b[39;00m:\n\u001b[1;32m    850\u001b[0m     \u001b[38;5;28;01mif\u001b[39;00m inspect\u001b[38;5;241m.\u001b[39msignature(\u001b[38;5;28mself\u001b[39m\u001b[38;5;241m.\u001b[39m_generate)\u001b[38;5;241m.\u001b[39mparameters\u001b[38;5;241m.\u001b[39mget(\u001b[38;5;124m\"\u001b[39m\u001b[38;5;124mrun_manager\u001b[39m\u001b[38;5;124m\"\u001b[39m):\n\u001b[0;32m--> 851\u001b[0m         result \u001b[38;5;241m=\u001b[39m \u001b[38;5;28;43mself\u001b[39;49m\u001b[38;5;241;43m.\u001b[39;49m\u001b[43m_generate\u001b[49m\u001b[43m(\u001b[49m\n\u001b[1;32m    852\u001b[0m \u001b[43m            \u001b[49m\u001b[43mmessages\u001b[49m\u001b[43m,\u001b[49m\u001b[43m \u001b[49m\u001b[43mstop\u001b[49m\u001b[38;5;241;43m=\u001b[39;49m\u001b[43mstop\u001b[49m\u001b[43m,\u001b[49m\u001b[43m \u001b[49m\u001b[43mrun_manager\u001b[49m\u001b[38;5;241;43m=\u001b[39;49m\u001b[43mrun_manager\u001b[49m\u001b[43m,\u001b[49m\u001b[43m \u001b[49m\u001b[38;5;241;43m*\u001b[39;49m\u001b[38;5;241;43m*\u001b[39;49m\u001b[43mkwargs\u001b[49m\n\u001b[1;32m    853\u001b[0m \u001b[43m        \u001b[49m\u001b[43m)\u001b[49m\n\u001b[1;32m    854\u001b[0m     \u001b[38;5;28;01melse\u001b[39;00m:\n\u001b[1;32m    855\u001b[0m         result \u001b[38;5;241m=\u001b[39m \u001b[38;5;28mself\u001b[39m\u001b[38;5;241m.\u001b[39m_generate(messages, stop\u001b[38;5;241m=\u001b[39mstop, \u001b[38;5;241m*\u001b[39m\u001b[38;5;241m*\u001b[39mkwargs)\n",
      "File \u001b[0;32m/opt/homebrew/Caskroom/miniconda/base/envs/ml_new/lib/python3.12/site-packages/langchain_experimental/llms/ollama_functions.py:313\u001b[0m, in \u001b[0;36mOllamaFunctions._generate\u001b[0;34m(self, messages, stop, run_manager, **kwargs)\u001b[0m\n\u001b[1;32m    307\u001b[0m system_message_prompt_template \u001b[38;5;241m=\u001b[39m SystemMessagePromptTemplate\u001b[38;5;241m.\u001b[39mfrom_template(\n\u001b[1;32m    308\u001b[0m     \u001b[38;5;28mself\u001b[39m\u001b[38;5;241m.\u001b[39mtool_system_prompt_template\n\u001b[1;32m    309\u001b[0m )\n\u001b[1;32m    310\u001b[0m system_message \u001b[38;5;241m=\u001b[39m system_message_prompt_template\u001b[38;5;241m.\u001b[39mformat(\n\u001b[1;32m    311\u001b[0m     tools\u001b[38;5;241m=\u001b[39mjson\u001b[38;5;241m.\u001b[39mdumps(functions, indent\u001b[38;5;241m=\u001b[39m\u001b[38;5;241m2\u001b[39m)\n\u001b[1;32m    312\u001b[0m )\n\u001b[0;32m--> 313\u001b[0m response_message \u001b[38;5;241m=\u001b[39m \u001b[38;5;28;43msuper\u001b[39;49m\u001b[43m(\u001b[49m\u001b[43m)\u001b[49m\u001b[38;5;241;43m.\u001b[39;49m\u001b[43m_generate\u001b[49m\u001b[43m(\u001b[49m\n\u001b[1;32m    314\u001b[0m \u001b[43m    \u001b[49m\u001b[43m[\u001b[49m\u001b[43msystem_message\u001b[49m\u001b[43m]\u001b[49m\u001b[43m \u001b[49m\u001b[38;5;241;43m+\u001b[39;49m\u001b[43m \u001b[49m\u001b[43mmessages\u001b[49m\u001b[43m,\u001b[49m\u001b[43m \u001b[49m\u001b[43mstop\u001b[49m\u001b[38;5;241;43m=\u001b[39;49m\u001b[43mstop\u001b[49m\u001b[43m,\u001b[49m\u001b[43m \u001b[49m\u001b[43mrun_manager\u001b[49m\u001b[38;5;241;43m=\u001b[39;49m\u001b[43mrun_manager\u001b[49m\u001b[43m,\u001b[49m\u001b[43m \u001b[49m\u001b[38;5;241;43m*\u001b[39;49m\u001b[38;5;241;43m*\u001b[39;49m\u001b[43mkwargs\u001b[49m\n\u001b[1;32m    315\u001b[0m \u001b[43m\u001b[49m\u001b[43m)\u001b[49m\n\u001b[1;32m    316\u001b[0m chat_generation_content \u001b[38;5;241m=\u001b[39m response_message\u001b[38;5;241m.\u001b[39mgenerations[\u001b[38;5;241m0\u001b[39m]\u001b[38;5;241m.\u001b[39mtext\n\u001b[1;32m    317\u001b[0m \u001b[38;5;28;01mif\u001b[39;00m \u001b[38;5;129;01mnot\u001b[39;00m \u001b[38;5;28misinstance\u001b[39m(chat_generation_content, \u001b[38;5;28mstr\u001b[39m):\n",
      "File \u001b[0;32m/opt/homebrew/Caskroom/miniconda/base/envs/ml_new/lib/python3.12/site-packages/langchain_community/chat_models/ollama.py:291\u001b[0m, in \u001b[0;36mChatOllama._generate\u001b[0;34m(self, messages, stop, run_manager, **kwargs)\u001b[0m\n\u001b[1;32m    267\u001b[0m \u001b[38;5;28;01mdef\u001b[39;00m \u001b[38;5;21m_generate\u001b[39m(\n\u001b[1;32m    268\u001b[0m     \u001b[38;5;28mself\u001b[39m,\n\u001b[1;32m    269\u001b[0m     messages: List[BaseMessage],\n\u001b[0;32m   (...)\u001b[0m\n\u001b[1;32m    272\u001b[0m     \u001b[38;5;241m*\u001b[39m\u001b[38;5;241m*\u001b[39mkwargs: Any,\n\u001b[1;32m    273\u001b[0m ) \u001b[38;5;241m-\u001b[39m\u001b[38;5;241m>\u001b[39m ChatResult:\n\u001b[1;32m    274\u001b[0m \u001b[38;5;250m    \u001b[39m\u001b[38;5;124;03m\"\"\"Call out to Ollama's generate endpoint.\u001b[39;00m\n\u001b[1;32m    275\u001b[0m \n\u001b[1;32m    276\u001b[0m \u001b[38;5;124;03m    Args:\u001b[39;00m\n\u001b[0;32m   (...)\u001b[0m\n\u001b[1;32m    288\u001b[0m \u001b[38;5;124;03m            ])\u001b[39;00m\n\u001b[1;32m    289\u001b[0m \u001b[38;5;124;03m    \"\"\"\u001b[39;00m\n\u001b[0;32m--> 291\u001b[0m     final_chunk \u001b[38;5;241m=\u001b[39m \u001b[38;5;28;43mself\u001b[39;49m\u001b[38;5;241;43m.\u001b[39;49m\u001b[43m_chat_stream_with_aggregation\u001b[49m\u001b[43m(\u001b[49m\n\u001b[1;32m    292\u001b[0m \u001b[43m        \u001b[49m\u001b[43mmessages\u001b[49m\u001b[43m,\u001b[49m\n\u001b[1;32m    293\u001b[0m \u001b[43m        \u001b[49m\u001b[43mstop\u001b[49m\u001b[38;5;241;43m=\u001b[39;49m\u001b[43mstop\u001b[49m\u001b[43m,\u001b[49m\n\u001b[1;32m    294\u001b[0m \u001b[43m        \u001b[49m\u001b[43mrun_manager\u001b[49m\u001b[38;5;241;43m=\u001b[39;49m\u001b[43mrun_manager\u001b[49m\u001b[43m,\u001b[49m\n\u001b[1;32m    295\u001b[0m \u001b[43m        \u001b[49m\u001b[43mverbose\u001b[49m\u001b[38;5;241;43m=\u001b[39;49m\u001b[38;5;28;43mself\u001b[39;49m\u001b[38;5;241;43m.\u001b[39;49m\u001b[43mverbose\u001b[49m\u001b[43m,\u001b[49m\n\u001b[1;32m    296\u001b[0m \u001b[43m        \u001b[49m\u001b[38;5;241;43m*\u001b[39;49m\u001b[38;5;241;43m*\u001b[39;49m\u001b[43mkwargs\u001b[49m\u001b[43m,\u001b[49m\n\u001b[1;32m    297\u001b[0m \u001b[43m    \u001b[49m\u001b[43m)\u001b[49m\n\u001b[1;32m    298\u001b[0m     chat_generation \u001b[38;5;241m=\u001b[39m ChatGeneration(\n\u001b[1;32m    299\u001b[0m         message\u001b[38;5;241m=\u001b[39mAIMessage(content\u001b[38;5;241m=\u001b[39mfinal_chunk\u001b[38;5;241m.\u001b[39mtext),\n\u001b[1;32m    300\u001b[0m         generation_info\u001b[38;5;241m=\u001b[39mfinal_chunk\u001b[38;5;241m.\u001b[39mgeneration_info,\n\u001b[1;32m    301\u001b[0m     )\n\u001b[1;32m    302\u001b[0m     \u001b[38;5;28;01mreturn\u001b[39;00m ChatResult(generations\u001b[38;5;241m=\u001b[39m[chat_generation])\n",
      "File \u001b[0;32m/opt/homebrew/Caskroom/miniconda/base/envs/ml_new/lib/python3.12/site-packages/langchain_community/chat_models/ollama.py:222\u001b[0m, in \u001b[0;36mChatOllama._chat_stream_with_aggregation\u001b[0;34m(self, messages, stop, run_manager, verbose, **kwargs)\u001b[0m\n\u001b[1;32m    213\u001b[0m \u001b[38;5;28;01mdef\u001b[39;00m \u001b[38;5;21m_chat_stream_with_aggregation\u001b[39m(\n\u001b[1;32m    214\u001b[0m     \u001b[38;5;28mself\u001b[39m,\n\u001b[1;32m    215\u001b[0m     messages: List[BaseMessage],\n\u001b[0;32m   (...)\u001b[0m\n\u001b[1;32m    219\u001b[0m     \u001b[38;5;241m*\u001b[39m\u001b[38;5;241m*\u001b[39mkwargs: Any,\n\u001b[1;32m    220\u001b[0m ) \u001b[38;5;241m-\u001b[39m\u001b[38;5;241m>\u001b[39m ChatGenerationChunk:\n\u001b[1;32m    221\u001b[0m     final_chunk: Optional[ChatGenerationChunk] \u001b[38;5;241m=\u001b[39m \u001b[38;5;28;01mNone\u001b[39;00m\n\u001b[0;32m--> 222\u001b[0m \u001b[43m    \u001b[49m\u001b[38;5;28;43;01mfor\u001b[39;49;00m\u001b[43m \u001b[49m\u001b[43mstream_resp\u001b[49m\u001b[43m \u001b[49m\u001b[38;5;129;43;01min\u001b[39;49;00m\u001b[43m \u001b[49m\u001b[38;5;28;43mself\u001b[39;49m\u001b[38;5;241;43m.\u001b[39;49m\u001b[43m_create_chat_stream\u001b[49m\u001b[43m(\u001b[49m\u001b[43mmessages\u001b[49m\u001b[43m,\u001b[49m\u001b[43m \u001b[49m\u001b[43mstop\u001b[49m\u001b[43m,\u001b[49m\u001b[43m \u001b[49m\u001b[38;5;241;43m*\u001b[39;49m\u001b[38;5;241;43m*\u001b[39;49m\u001b[43mkwargs\u001b[49m\u001b[43m)\u001b[49m\u001b[43m:\u001b[49m\n\u001b[1;32m    223\u001b[0m \u001b[43m        \u001b[49m\u001b[38;5;28;43;01mif\u001b[39;49;00m\u001b[43m \u001b[49m\u001b[43mstream_resp\u001b[49m\u001b[43m:\u001b[49m\n\u001b[1;32m    224\u001b[0m \u001b[43m            \u001b[49m\u001b[43mchunk\u001b[49m\u001b[43m \u001b[49m\u001b[38;5;241;43m=\u001b[39;49m\u001b[43m \u001b[49m\u001b[43m_chat_stream_response_to_chat_generation_chunk\u001b[49m\u001b[43m(\u001b[49m\u001b[43mstream_resp\u001b[49m\u001b[43m)\u001b[49m\n",
      "File \u001b[0;32m/opt/homebrew/Caskroom/miniconda/base/envs/ml_new/lib/python3.12/site-packages/langchain_community/chat_models/ollama.py:194\u001b[0m, in \u001b[0;36mChatOllama._create_chat_stream\u001b[0;34m(self, messages, stop, **kwargs)\u001b[0m\n\u001b[1;32m    184\u001b[0m \u001b[38;5;28;01mdef\u001b[39;00m \u001b[38;5;21m_create_chat_stream\u001b[39m(\n\u001b[1;32m    185\u001b[0m     \u001b[38;5;28mself\u001b[39m,\n\u001b[1;32m    186\u001b[0m     messages: List[BaseMessage],\n\u001b[1;32m    187\u001b[0m     stop: Optional[List[\u001b[38;5;28mstr\u001b[39m]] \u001b[38;5;241m=\u001b[39m \u001b[38;5;28;01mNone\u001b[39;00m,\n\u001b[1;32m    188\u001b[0m     \u001b[38;5;241m*\u001b[39m\u001b[38;5;241m*\u001b[39mkwargs: Any,\n\u001b[1;32m    189\u001b[0m ) \u001b[38;5;241m-\u001b[39m\u001b[38;5;241m>\u001b[39m Iterator[\u001b[38;5;28mstr\u001b[39m]:\n\u001b[1;32m    190\u001b[0m     payload \u001b[38;5;241m=\u001b[39m {\n\u001b[1;32m    191\u001b[0m         \u001b[38;5;124m\"\u001b[39m\u001b[38;5;124mmodel\u001b[39m\u001b[38;5;124m\"\u001b[39m: \u001b[38;5;28mself\u001b[39m\u001b[38;5;241m.\u001b[39mmodel,\n\u001b[1;32m    192\u001b[0m         \u001b[38;5;124m\"\u001b[39m\u001b[38;5;124mmessages\u001b[39m\u001b[38;5;124m\"\u001b[39m: \u001b[38;5;28mself\u001b[39m\u001b[38;5;241m.\u001b[39m_convert_messages_to_ollama_messages(messages),\n\u001b[1;32m    193\u001b[0m     }\n\u001b[0;32m--> 194\u001b[0m     \u001b[38;5;28;01myield from\u001b[39;00m \u001b[38;5;28;43mself\u001b[39;49m\u001b[38;5;241;43m.\u001b[39;49m\u001b[43m_create_stream\u001b[49m\u001b[43m(\u001b[49m\n\u001b[1;32m    195\u001b[0m \u001b[43m        \u001b[49m\u001b[43mpayload\u001b[49m\u001b[38;5;241;43m=\u001b[39;49m\u001b[43mpayload\u001b[49m\u001b[43m,\u001b[49m\u001b[43m \u001b[49m\u001b[43mstop\u001b[49m\u001b[38;5;241;43m=\u001b[39;49m\u001b[43mstop\u001b[49m\u001b[43m,\u001b[49m\u001b[43m \u001b[49m\u001b[43mapi_url\u001b[49m\u001b[38;5;241;43m=\u001b[39;49m\u001b[38;5;124;43mf\u001b[39;49m\u001b[38;5;124;43m\"\u001b[39;49m\u001b[38;5;132;43;01m{\u001b[39;49;00m\u001b[38;5;28;43mself\u001b[39;49m\u001b[38;5;241;43m.\u001b[39;49m\u001b[43mbase_url\u001b[49m\u001b[38;5;132;43;01m}\u001b[39;49;00m\u001b[38;5;124;43m/api/chat\u001b[39;49m\u001b[38;5;124;43m\"\u001b[39;49m\u001b[43m,\u001b[49m\u001b[43m \u001b[49m\u001b[38;5;241;43m*\u001b[39;49m\u001b[38;5;241;43m*\u001b[39;49m\u001b[43mkwargs\u001b[49m\n\u001b[1;32m    196\u001b[0m \u001b[43m    \u001b[49m\u001b[43m)\u001b[49m\n",
      "File \u001b[0;32m/opt/homebrew/Caskroom/miniconda/base/envs/ml_new/lib/python3.12/site-packages/langchain_community/llms/ollama.py:266\u001b[0m, in \u001b[0;36m_OllamaCommon._create_stream\u001b[0;34m(self, api_url, payload, stop, **kwargs)\u001b[0m\n\u001b[1;32m    264\u001b[0m \u001b[38;5;28;01mif\u001b[39;00m response\u001b[38;5;241m.\u001b[39mstatus_code \u001b[38;5;241m!=\u001b[39m \u001b[38;5;241m200\u001b[39m:\n\u001b[1;32m    265\u001b[0m     \u001b[38;5;28;01mif\u001b[39;00m response\u001b[38;5;241m.\u001b[39mstatus_code \u001b[38;5;241m==\u001b[39m \u001b[38;5;241m404\u001b[39m:\n\u001b[0;32m--> 266\u001b[0m         \u001b[38;5;28;01mraise\u001b[39;00m OllamaEndpointNotFoundError(\n\u001b[1;32m    267\u001b[0m             \u001b[38;5;124m\"\u001b[39m\u001b[38;5;124mOllama call failed with status code 404. \u001b[39m\u001b[38;5;124m\"\u001b[39m\n\u001b[1;32m    268\u001b[0m             \u001b[38;5;124m\"\u001b[39m\u001b[38;5;124mMaybe your model is not found \u001b[39m\u001b[38;5;124m\"\u001b[39m\n\u001b[1;32m    269\u001b[0m             \u001b[38;5;124mf\u001b[39m\u001b[38;5;124m\"\u001b[39m\u001b[38;5;124mand you should pull the model with `ollama pull \u001b[39m\u001b[38;5;132;01m{\u001b[39;00m\u001b[38;5;28mself\u001b[39m\u001b[38;5;241m.\u001b[39mmodel\u001b[38;5;132;01m}\u001b[39;00m\u001b[38;5;124m`.\u001b[39m\u001b[38;5;124m\"\u001b[39m\n\u001b[1;32m    270\u001b[0m         )\n\u001b[1;32m    271\u001b[0m     \u001b[38;5;28;01melse\u001b[39;00m:\n\u001b[1;32m    272\u001b[0m         optional_detail \u001b[38;5;241m=\u001b[39m response\u001b[38;5;241m.\u001b[39mtext\n",
      "\u001b[0;31mOllamaEndpointNotFoundError\u001b[0m: Ollama call failed with status code 404. Maybe your model is not found and you should pull the model with `ollama pull llama3.1`."
     ]
    }
   ],
   "source": [
    "graph_documents = llm_transformer.convert_to_graph_documents(documents)"
   ]
  },
  {
   "cell_type": "code",
   "execution_count": 9,
   "metadata": {
    "id": "0CimJqNFiXEs"
   },
   "outputs": [],
   "source": [
    "os.environ[\"OPENAI_API_KEY\"] = <api_key>"
   ]
  },
  {
   "cell_type": "code",
   "execution_count": null,
   "metadata": {},
   "outputs": [
    {
     "name": "stdout",
     "output_type": "stream",
     "text": [
      "Requirement already satisfied: langchain_openai in /opt/homebrew/Caskroom/miniconda/base/envs/ml_new/lib/python3.12/site-packages (0.2.8)\n",
      "Requirement already satisfied: langchain-core<0.4.0,>=0.3.17 in /opt/homebrew/Caskroom/miniconda/base/envs/ml_new/lib/python3.12/site-packages (from langchain_openai) (0.3.19)\n",
      "Requirement already satisfied: openai<2.0.0,>=1.54.0 in /opt/homebrew/Caskroom/miniconda/base/envs/ml_new/lib/python3.12/site-packages (from langchain_openai) (1.54.4)\n",
      "Requirement already satisfied: tiktoken<1,>=0.7 in /opt/homebrew/Caskroom/miniconda/base/envs/ml_new/lib/python3.12/site-packages (from langchain_openai) (0.8.0)\n",
      "Requirement already satisfied: PyYAML>=5.3 in /opt/homebrew/Caskroom/miniconda/base/envs/ml_new/lib/python3.12/site-packages (from langchain-core<0.4.0,>=0.3.17->langchain_openai) (6.0.2)\n",
      "Requirement already satisfied: jsonpatch<2.0,>=1.33 in /opt/homebrew/Caskroom/miniconda/base/envs/ml_new/lib/python3.12/site-packages (from langchain-core<0.4.0,>=0.3.17->langchain_openai) (1.33)\n",
      "Requirement already satisfied: langsmith<0.2.0,>=0.1.125 in /opt/homebrew/Caskroom/miniconda/base/envs/ml_new/lib/python3.12/site-packages (from langchain-core<0.4.0,>=0.3.17->langchain_openai) (0.1.140)\n",
      "Requirement already satisfied: packaging<25,>=23.2 in /opt/homebrew/Caskroom/miniconda/base/envs/ml_new/lib/python3.12/site-packages (from langchain-core<0.4.0,>=0.3.17->langchain_openai) (24.1)\n",
      "Requirement already satisfied: pydantic<3.0.0,>=2.7.4 in /opt/homebrew/Caskroom/miniconda/base/envs/ml_new/lib/python3.12/site-packages (from langchain-core<0.4.0,>=0.3.17->langchain_openai) (2.9.2)\n",
      "Requirement already satisfied: tenacity!=8.4.0,<10.0.0,>=8.1.0 in /opt/homebrew/Caskroom/miniconda/base/envs/ml_new/lib/python3.12/site-packages (from langchain-core<0.4.0,>=0.3.17->langchain_openai) (9.0.0)\n",
      "Requirement already satisfied: typing-extensions>=4.7 in /opt/homebrew/Caskroom/miniconda/base/envs/ml_new/lib/python3.12/site-packages (from langchain-core<0.4.0,>=0.3.17->langchain_openai) (4.12.2)\n",
      "Requirement already satisfied: anyio<5,>=3.5.0 in /opt/homebrew/Caskroom/miniconda/base/envs/ml_new/lib/python3.12/site-packages (from openai<2.0.0,>=1.54.0->langchain_openai) (4.6.2.post1)\n",
      "Requirement already satisfied: distro<2,>=1.7.0 in /opt/homebrew/Caskroom/miniconda/base/envs/ml_new/lib/python3.12/site-packages (from openai<2.0.0,>=1.54.0->langchain_openai) (1.9.0)\n",
      "Requirement already satisfied: httpx<1,>=0.23.0 in /opt/homebrew/Caskroom/miniconda/base/envs/ml_new/lib/python3.12/site-packages (from openai<2.0.0,>=1.54.0->langchain_openai) (0.27.2)\n",
      "Requirement already satisfied: jiter<1,>=0.4.0 in /opt/homebrew/Caskroom/miniconda/base/envs/ml_new/lib/python3.12/site-packages (from openai<2.0.0,>=1.54.0->langchain_openai) (0.7.1)\n",
      "Requirement already satisfied: sniffio in /opt/homebrew/Caskroom/miniconda/base/envs/ml_new/lib/python3.12/site-packages (from openai<2.0.0,>=1.54.0->langchain_openai) (1.3.1)\n",
      "Requirement already satisfied: tqdm>4 in /opt/homebrew/Caskroom/miniconda/base/envs/ml_new/lib/python3.12/site-packages (from openai<2.0.0,>=1.54.0->langchain_openai) (4.67.0)\n",
      "Requirement already satisfied: regex>=2022.1.18 in /opt/homebrew/Caskroom/miniconda/base/envs/ml_new/lib/python3.12/site-packages (from tiktoken<1,>=0.7->langchain_openai) (2024.11.6)\n",
      "Requirement already satisfied: requests>=2.26.0 in /opt/homebrew/Caskroom/miniconda/base/envs/ml_new/lib/python3.12/site-packages (from tiktoken<1,>=0.7->langchain_openai) (2.32.3)\n",
      "Requirement already satisfied: idna>=2.8 in /opt/homebrew/Caskroom/miniconda/base/envs/ml_new/lib/python3.12/site-packages (from anyio<5,>=3.5.0->openai<2.0.0,>=1.54.0->langchain_openai) (3.10)\n",
      "Requirement already satisfied: certifi in /opt/homebrew/Caskroom/miniconda/base/envs/ml_new/lib/python3.12/site-packages (from httpx<1,>=0.23.0->openai<2.0.0,>=1.54.0->langchain_openai) (2024.8.30)\n",
      "Requirement already satisfied: httpcore==1.* in /opt/homebrew/Caskroom/miniconda/base/envs/ml_new/lib/python3.12/site-packages (from httpx<1,>=0.23.0->openai<2.0.0,>=1.54.0->langchain_openai) (1.0.6)\n",
      "Requirement already satisfied: h11<0.15,>=0.13 in /opt/homebrew/Caskroom/miniconda/base/envs/ml_new/lib/python3.12/site-packages (from httpcore==1.*->httpx<1,>=0.23.0->openai<2.0.0,>=1.54.0->langchain_openai) (0.14.0)\n",
      "Requirement already satisfied: jsonpointer>=1.9 in /opt/homebrew/Caskroom/miniconda/base/envs/ml_new/lib/python3.12/site-packages (from jsonpatch<2.0,>=1.33->langchain-core<0.4.0,>=0.3.17->langchain_openai) (3.0.0)\n",
      "Requirement already satisfied: orjson<4.0.0,>=3.9.14 in /opt/homebrew/Caskroom/miniconda/base/envs/ml_new/lib/python3.12/site-packages (from langsmith<0.2.0,>=0.1.125->langchain-core<0.4.0,>=0.3.17->langchain_openai) (3.10.11)\n",
      "Requirement already satisfied: requests-toolbelt<2.0.0,>=1.0.0 in /opt/homebrew/Caskroom/miniconda/base/envs/ml_new/lib/python3.12/site-packages (from langsmith<0.2.0,>=0.1.125->langchain-core<0.4.0,>=0.3.17->langchain_openai) (1.0.0)\n",
      "Requirement already satisfied: annotated-types>=0.6.0 in /opt/homebrew/Caskroom/miniconda/base/envs/ml_new/lib/python3.12/site-packages (from pydantic<3.0.0,>=2.7.4->langchain-core<0.4.0,>=0.3.17->langchain_openai) (0.7.0)\n",
      "Requirement already satisfied: pydantic-core==2.23.4 in /opt/homebrew/Caskroom/miniconda/base/envs/ml_new/lib/python3.12/site-packages (from pydantic<3.0.0,>=2.7.4->langchain-core<0.4.0,>=0.3.17->langchain_openai) (2.23.4)\n",
      "Requirement already satisfied: charset-normalizer<4,>=2 in /opt/homebrew/Caskroom/miniconda/base/envs/ml_new/lib/python3.12/site-packages (from requests>=2.26.0->tiktoken<1,>=0.7->langchain_openai) (3.4.0)\n",
      "Requirement already satisfied: urllib3<3,>=1.21.1 in /opt/homebrew/Caskroom/miniconda/base/envs/ml_new/lib/python3.12/site-packages (from requests>=2.26.0->tiktoken<1,>=0.7->langchain_openai) (2.2.3)\n"
     ]
    }
   ],
   "source": [
    "!pip install langchain_openai"
   ]
  },
  {
   "cell_type": "code",
   "execution_count": 10,
   "metadata": {
    "id": "w1_cvSHciGt1"
   },
   "outputs": [],
   "source": [
    "''' use gpt '''\n",
    "from langchain_openai import ChatOpenAI\n",
    "llm = ChatOpenAI(temperature=0, model_name=\"gpt-4o\")\n",
    "\n",
    "llm_transformer = LLMGraphTransformer(llm=llm)"
   ]
  },
  {
   "cell_type": "code",
   "execution_count": 11,
   "metadata": {
    "id": "0sINmLIjhEiE"
   },
   "outputs": [],
   "source": [
    "graph_documents = llm_transformer.convert_to_graph_documents(documents)"
   ]
  },
  {
   "cell_type": "code",
   "execution_count": 12,
   "metadata": {
    "colab": {
     "base_uri": "https://localhost:8080/"
    },
    "id": "0ATH3pRVj4EQ",
    "outputId": "ef038c05-7824-4ace-be9f-71346ec94037"
   },
   "outputs": [
    {
     "name": "stdout",
     "output_type": "stream",
     "text": [
      "[Node(id='Node', type='Concept', properties={}), Node(id='Relationship', type='Concept', properties={}), Node(id='Node Classes', type='Concept', properties={}), Node(id='Relationship Classes', type='Concept', properties={}), Node(id='Customgraphdocument', type='Concept', properties={}), Node(id='Document Text', type='Concept', properties={})]\n",
      "[Relationship(source=Node(id='Node Classes', type='Concept', properties={}), target=Node(id='Node', type='Concept', properties={}), type='MIRROR', properties={}), Relationship(source=Node(id='Relationship Classes', type='Concept', properties={}), target=Node(id='Relationship', type='Concept', properties={}), type='MIRROR', properties={}), Relationship(source=Node(id='Customgraphdocument', type='Concept', properties={}), target=Node(id='Document Text', type='Concept', properties={}), type='STORE', properties={}), Relationship(source=Node(id='Customgraphdocument', type='Concept', properties={}), target=Node(id='Node Classes', type='Concept', properties={}), type='STORE', properties={}), Relationship(source=Node(id='Customgraphdocument', type='Concept', properties={}), target=Node(id='Relationship Classes', type='Concept', properties={}), type='STORE', properties={})]\n",
      "nodes=[Node(id='Node', type='Concept', properties={}), Node(id='Relationship', type='Concept', properties={}), Node(id='Node Classes', type='Concept', properties={}), Node(id='Relationship Classes', type='Concept', properties={}), Node(id='Customgraphdocument', type='Concept', properties={}), Node(id='Document Text', type='Concept', properties={})] relationships=[Relationship(source=Node(id='Node Classes', type='Concept', properties={}), target=Node(id='Node', type='Concept', properties={}), type='MIRROR', properties={}), Relationship(source=Node(id='Relationship Classes', type='Concept', properties={}), target=Node(id='Relationship', type='Concept', properties={}), type='MIRROR', properties={}), Relationship(source=Node(id='Customgraphdocument', type='Concept', properties={}), target=Node(id='Document Text', type='Concept', properties={}), type='STORE', properties={}), Relationship(source=Node(id='Customgraphdocument', type='Concept', properties={}), target=Node(id='Node Classes', type='Concept', properties={}), type='STORE', properties={}), Relationship(source=Node(id='Customgraphdocument', type='Concept', properties={}), target=Node(id='Relationship Classes', type='Concept', properties={}), type='STORE', properties={})] source=Document(metadata={'source': '/Users/akshit/Documents/Projects/Python-all/information-extraction/Guidelines/Graph/dummytext.txt'}, page_content='Key changes made:\\nCreated custom Node and Relationship classes that mirror the structure used by LLMGraphTransformer1\\nCreated a CustomGraphDocument class to store the document text along with its nodes and relationships')\n"
     ]
    }
   ],
   "source": [
    "print(graph_documents[0].nodes)\n",
    "print(graph_documents[0].relationships)\n",
    "print(graph_documents[0])"
   ]
  },
  {
   "cell_type": "code",
   "execution_count": 13,
   "metadata": {
    "colab": {
     "base_uri": "https://localhost:8080/"
    },
    "id": "w1OxnNCZldnu",
    "outputId": "02578daa-35b6-4a4a-fb44-0f3b2d5e6a64"
   },
   "outputs": [
    {
     "name": "stdout",
     "output_type": "stream",
     "text": [
      "5\n"
     ]
    },
    {
     "ename": "NameError",
     "evalue": "name 'graph' is not defined",
     "output_type": "error",
     "traceback": [
      "\u001b[0;31m---------------------------------------------------------------------------\u001b[0m",
      "\u001b[0;31mNameError\u001b[0m                                 Traceback (most recent call last)",
      "Cell \u001b[0;32mIn[13], line 2\u001b[0m\n\u001b[1;32m      1\u001b[0m \u001b[38;5;28mprint\u001b[39m(\u001b[38;5;28mlen\u001b[39m(graph_documents))\n\u001b[0;32m----> 2\u001b[0m \u001b[43mgraph\u001b[49m\u001b[38;5;241m.\u001b[39madd_graph_documents(graph_documents, baseEntityLabel\u001b[38;5;241m=\u001b[39m\u001b[38;5;28;01mTrue\u001b[39;00m)\n",
      "\u001b[0;31mNameError\u001b[0m: name 'graph' is not defined"
     ]
    }
   ],
   "source": [
    "print(len(graph_documents))\n",
    "graph.add_graph_documents(graph_documents, baseEntityLabel=True)"
   ]
  },
  {
   "cell_type": "code",
   "execution_count": 14,
   "metadata": {
    "id": "K-9n4QkUqk8K"
   },
   "outputs": [],
   "source": [
    "from langchain_community.graphs.graph_document import GraphDocument, Node, Relationship\n",
    "from langchain_core.documents import Document"
   ]
  },
  {
   "cell_type": "code",
   "execution_count": 15,
   "metadata": {
    "id": "G4jCZeeKnJ8z"
   },
   "outputs": [],
   "source": [
    "source_doc = Document(\n",
    "    page_content='''http://nccn-guideline.org/nsclc/0,PROS-1,12,\"Context:\n",
    "INITIAL PROSTATE CANCER DIAGNOSIS{a,b,c}\n",
    "Clinically localized prostate cancer (Any T, N0, M0 or Any T, NX, MX)\n",
    "\n",
    "Next steps:\n",
    "WORKUP\n",
    "Perform physical exam\n",
    "Perform digital rectal exam (DRE) to confirm clinical stage\n",
    "Perform and/or collect prostate-specific antigen (PSA) and calculate PSA density\n",
    "Obtain and review diagnostic prostate biopsies\n",
    "Estimate life expectancy (Principles of Life Expectancy Estimation [PROS-A])\n",
    "Inquire about known high-risk germline mutations and family history{d} Perform somatic and/or germline testing as appropriate{d}\n",
    "Assess quality-of-life measures{e}\",\"b: NCCN Guidelines for Prostate Cancer Early Detection.\n",
    "d: Principles of Genetics and Molecular/Biomarker Analysis (PROS-C).\n",
    "a: See NCCN Guidelines for Older Adult Oncology for tools to aid optimal assessment and management of disease in older adults.\n",
    "e: Principles of Quality-of-Life and Shared Decision-Making (PROS-D).\n",
    "c: Principles of Bone Health in Prostate Cancer (PROS-B).'''\n",
    ")\n",
    "movie = Node(id=\"INITIAL PROSTATE CANCER DIAGNOSIS\", properties={\"label\": \"cancer\"})\n",
    "actor1 = Node(id=\"Perform physical exam\", properties={\"label\": \"workup\"})\n",
    "actor2 = Node(\n",
    "    id=\"Perform digital rectal exam (DRE) to confirm clinical stage\", properties={\"label\": \"workup\"}\n",
    ")\n",
    "actor3 = Node(\n",
    "    id=\"Inquire about known high-risk germline mutations and family history{d}\", properties={\"label\": \"workup\"}\n",
    ")\n",
    "actor4 = Node(\n",
    "    id=\"d: Principles of Genetics and Molecular/Biomarker Analysis (PROS-C).\", properties={\"label\": \"footnote\"}\n",
    ")\n",
    "rel1 = Relationship(\n",
    "    id=5, type=\"next steps\", source=actor1, target=movie, properties={\"label\": \"ActedIn\"}\n",
    ")\n",
    "rel2 = Relationship(\n",
    "    id=6, type=\"next steps\", source=actor2, target=movie, properties={\"label\": \"ActedIn\"}\n",
    ")\n",
    "rel3 = Relationship(\n",
    "    id=7, type=\"next steps\", source=actor3, target=movie, properties={\"label\": \"ActedIn\"}\n",
    ")\n",
    "rel4 = Relationship(\n",
    "    id=8,\n",
    "    type=\"refer\",\n",
    "    source=actor3,\n",
    "    target=actor4,\n",
    "    properties={\"label\": \"abc\"},\n",
    ")\n",
    "# rel5 = Relationship(\n",
    "#     id=9,\n",
    "#     type=\"\",\n",
    "#     source=movie,\n",
    "#     target=actor2,\n",
    "#     properties={\"label\": \"Strarring\"},\n",
    "# )\n",
    "# rel6 = Relationship(\n",
    "#     id=10,\n",
    "#     type=\"Straring\",\n",
    "#     source=movie,\n",
    "#     target=actor3,\n",
    "#     properties={\"label\": \"Strarring\"},\n",
    "# )\n",
    "graph_doc = GraphDocument(\n",
    "    nodes=[movie, actor1, actor2, actor3],\n",
    "    relationships=[rel1, rel2, rel3, rel4],\n",
    "    source=source_doc,\n",
    ")"
   ]
  },
  {
   "cell_type": "code",
   "execution_count": null,
   "metadata": {
    "id": "YHMHVEK-x_j6"
   },
   "outputs": [],
   "source": [
    "graph.add_graph_documents([graph_doc])"
   ]
  },
  {
   "cell_type": "code",
   "execution_count": null,
   "metadata": {
    "id": "DmSbq9IoyNV0"
   },
   "outputs": [],
   "source": [
    "graph.refresh_schema()"
   ]
  },
  {
   "cell_type": "code",
   "execution_count": null,
   "metadata": {
    "colab": {
     "base_uri": "https://localhost:8080/"
    },
    "id": "6ysyk5u4mX5i",
    "outputId": "e9aa785c-6bad-4325-b60a-a3dd749812a9"
   },
   "outputs": [
    {
     "name": "stdout",
     "output_type": "stream",
     "text": [
      "http://nccn-guideline.org/nsclc/0\n"
     ]
    }
   ],
   "source": [
    "import json\n",
    "\n",
    "# Load the JSON file\n",
    "with open('example.json', 'r') as file:\n",
    "    data = json.load(file)\n",
    "\n",
    "# Initialize the result list\n",
    "result_nodes = []\n",
    "\n",
    "# Iterate through the @graph content\n",
    "for node in data.get(\"@graph\", []):\n",
    "    # Check if the required keys are present\n",
    "    if 'nccn:content' in node and node['nccn:content']:\n",
    "      metadata = {\n",
    "          \"@id\": node.get(\"@id\"),\n",
    "          \"nccn:page-key\": node.get(\"nccn:page-key\"),\n",
    "          \"nccn:page-no\": node.get(\"nccn:page-no\"),\n",
    "          \"nccn:nodelink\": node.get(\"nccn:nodelink\")\n",
    "      }\n",
    "      result_nodes.append(Node(id=node['nccn:content'], properties=metadata))\n",
    "\n",
    "# Output the result\n",
    "print(result_nodes[0].properties['@id'])\n"
   ]
  },
  {
   "cell_type": "code",
   "execution_count": null,
   "metadata": {
    "colab": {
     "base_uri": "https://localhost:8080/"
    },
    "id": "sVJ9ZdRSpnWW",
    "outputId": "d3387363-c85b-4df0-cb40-b7bb18ef91ce"
   },
   "outputs": [
    {
     "name": "stdout",
     "output_type": "stream",
     "text": [
      "http://nccn-guideline.org/nsclc/1\n",
      "http://nccn-guideline.org/nsclc/5\n",
      "http://nccn-guideline.org/nsclc/5\n",
      "http://nccn-guideline.org/nsclc/95\n",
      "http://nccn-guideline.org/nsclc/97\n",
      "http://nccn-guideline.org/nsclc/199\n",
      "http://nccn-guideline.org/nsclc/24\n",
      "http://nccn-guideline.org/nsclc/23\n",
      "http://nccn-guideline.org/nsclc/27\n",
      "Clinically localized prostate cancer (Any T, N0, M0 or Any T, NX, MX) Perform physical exam\n",
      "Clinically localized prostate cancer (Any T, N0, M0 or Any T, NX, MX) Perform digital rectal exam (DRE) to confirm clinical stage\n",
      "Clinically localized prostate cancer (Any T, N0, M0 or Any T, NX, MX) Perform and/or collect prostate-specific antigen (PSA) and calculate PSA density\n",
      "Clinically localized prostate cancer (Any T, N0, M0 or Any T, NX, MX) Obtain and review diagnostic prostate biopsies\n",
      "Clinically localized prostate cancer (Any T, N0, M0 or Any T, NX, MX) Estimate life expectancy (Principles of Life Expectancy Estimation [PROS-A])\n",
      "Clinically localized prostate cancer (Any T, N0, M0 or Any T, NX, MX) Inquire about known high-risk germline mutations and family history{d} Perform somatic and/or germline testing as appropriate{d}\n",
      "Clinically localized prostate cancer (Any T, N0, M0 or Any T, NX, MX) Assess quality-of-life measures{e}\n",
      "Regional prostate cancer (Any T, N1, M0) Perform physical exam\n",
      "Regional prostate cancer (Any T, N1, M0) Perform imaging for staging{f,g,h}\n",
      "Regional prostate cancer (Any T, N1, M0) Perform DRE to confirm clinical stage\n",
      "Regional prostate cancer (Any T, N1, M0) Perform and/or collect PSA and calculate PSA doubling time (PSADT)\n",
      "Regional prostate cancer (Any T, N1, M0) Estimate life expectancy (Principles of Life Expectancy Estimation [PROS-A])\n",
      "Regional prostate cancer (Any T, N1, M0) Inquire about known high-risk germline mutations and family history{d} Perform somatic and/or germline testing as appropriate{d}\n",
      "Regional prostate cancer (Any T, N1, M0) Assess quality-of-life measures{e}\n",
      "Metastatic prostate cancer (Any T, Any N, M1) Perform physical exam\n",
      "Metastatic prostate cancer (Any T, Any N, M1) Perform imaging for staging{f,g,h}\n",
      "Metastatic prostate cancer (Any T, Any N, M1) Perform DRE to confirm clinical stage\n",
      "Metastatic prostate cancer (Any T, Any N, M1) Perform and/or collect PSA and calculate PSA doubling time (PSADT)\n",
      "Metastatic prostate cancer (Any T, Any N, M1) Estimate life expectancy (Principles of Life Expectancy Estimation [PROS-A])\n",
      "Metastatic prostate cancer (Any T, Any N, M1) Inquire about known high-risk germline mutations and family history{d} Perform somatic and/or germline testing as appropriate{d}\n",
      "Metastatic prostate cancer (Any T, Any N, M1) Assess quality-of-life measures{e}\n",
      "≥10 y{o} Active surveillance{p,q} See Active Surveillance Program (PROS-F 2 of 5)\n",
      "Active surveillance{p,q} See Active Surveillance Program (PROS-F 2 of 5) Progressive disease{s} See Initial Risk Stratification and Staging Workup for Clinically Localized Disease (PROS-2)\n"
     ]
    }
   ],
   "source": [
    "node_lookup = {node.id: node for node in result_nodes}\n",
    "target_node_lookup = {node.properties['@id']: node for node in result_nodes}\n",
    "\n",
    "relationships = []\n",
    "# Step 3: Build relationships based on 'nccn:next' entries\n",
    "relationship_id = 1\n",
    "for node in data.get(\"@graph\", []):\n",
    "    source_content = node.get(\"nccn:content\")\n",
    "    if source_content and 'nccn:next' in node:\n",
    "        source_node = node_lookup.get(source_content)\n",
    "        if source_node:\n",
    "            for target_id in node['nccn:next']:\n",
    "                print(target_id)\n",
    "                target_node = target_node_lookup.get(target_id)\n",
    "                if target_node:\n",
    "                    # Direct relationship\n",
    "                    relationships.append(Relationship(\n",
    "                        id=relationship_id,\n",
    "                        type=\"next step\",\n",
    "                        source=source_node,\n",
    "                        target=target_node,\n",
    "                        properties={}  # Add additional properties if needed\n",
    "                    ))\n",
    "                    relationship_id += 1\n",
    "                else:\n",
    "                    # Handle case where target node's nccn:content is missing\n",
    "                    target_graph_node = next(\n",
    "                        (g_node for g_node in data.get(\"@graph\", []) if g_node.get(\"@id\") == target_id),\n",
    "                        None\n",
    "                    )\n",
    "                    if target_graph_node and 'nccn:contains' in target_graph_node:\n",
    "                        for nested_id in target_graph_node['nccn:contains']:\n",
    "                            nested_target_node = target_node_lookup.get(nested_id)\n",
    "                            if nested_target_node:\n",
    "                                # Create relationship for nested target nodes\n",
    "                                relationships.append(Relationship(\n",
    "                                    id=relationship_id,\n",
    "                                    type=\"next step\",\n",
    "                                    source=source_node,\n",
    "                                    target=nested_target_node,\n",
    "                                    properties={}  # Add additional properties if needed\n",
    "                                ))\n",
    "                                relationship_id += 1\n",
    "\n",
    "# Output the relationships\n"
   ]
  },
  {
   "cell_type": "code",
   "execution_count": null,
   "metadata": {
    "colab": {
     "base_uri": "https://localhost:8080/"
    },
    "id": "mYODTWmM3Y2l",
    "outputId": "a3feafcd-6165-4091-b934-6fc947514144"
   },
   "outputs": [
    {
     "name": "stdout",
     "output_type": "stream",
     "text": [
      "source=Node(id='Clinically localized prostate cancer (Any T, N0, M0 or Any T, NX, MX)', properties={'@id': 'http://nccn-guideline.org/nsclc/0', 'nccn:page-key': 'PROS-1', 'nccn:page-no': 12, 'nccn:nodelink': 'http://localhost:8080/nscl.pdf?page=12&x=26.05&y=173.58&width=129.17&height=31.88'}) target=Node(id='Perform physical exam', properties={'@id': 'http://nccn-guideline.org/nsclc/8', 'nccn:page-key': 'PROS-1', 'nccn:page-no': 12, 'nccn:nodelink': 'http://localhost:8080/nscl.pdf?page=12&x=308.59&y=112.53&width=109.98&height=6.8'}) type='next step' properties={}\n"
     ]
    }
   ],
   "source": [
    "print(relationships[0])"
   ]
  },
  {
   "cell_type": "code",
   "execution_count": null,
   "metadata": {
    "id": "yo0yWHp05_Tk"
   },
   "outputs": [],
   "source": [
    "GraphDocument(nodes=[Node(id=\"Amico'S Family\", type='Family', properties={})], relationships=[],\n",
    "              source=Document(metadata={'source': 'dummytext.txt', 'id': 'ed648f5744c61a703b28736f1a7cf0c0'},\n",
    "              page_content='1. The Story of Amico’s Family: A Legacy of Love and Tradition'))"
   ]
  },
  {
   "cell_type": "code",
   "execution_count": null,
   "metadata": {
    "id": "XLy5pFN30742"
   },
   "outputs": [],
   "source": [
    "a='''{\n",
    "    \"@graph\": [\n",
    "    {\n",
    "        \"@id\": \"http://nccn-guideline.org/nsclc/0\",\n",
    "        \"nccn:page-key\": \"PROS-1\",\n",
    "        \"nccn:page-no\": 12,\n",
    "        \"nccn:nodelink\": \"http://localhost:8080/nscl.pdf?page=12&x=26.05&y=173.58&width=129.17&height=31.88\",\n",
    "        \"nccn:pagelink\": \"http://localhost:8080/nscl.pdf#page=12\",\n",
    "        \"nccn:bounds\": \"X=26.05,Y=173.58,W=129.17,H=31.88\",\n",
    "        \"nccn:labels\": [\n",
    "            \"http://nccn-guideline.org/nsclc/labels/0\"\n",
    "        ],\n",
    "        \"nccn:mscore\": [\n",
    "            \"M0\"\n",
    "        ],\n",
    "        \"nccn:nscore\": [\n",
    "            \"N0\"\n",
    "        ],\n",
    "        \"nccn:content\": \"Clinically localized prostate cancer (Any T, N0, M0 or Any T, NX, MX)\",\n",
    "        \"nccn:next\": [\n",
    "            \"http://nccn-guideline.org/nsclc/1\"\n",
    "        ]\n",
    "    },\n",
    "    {\n",
    "        \"@id\": \"http://nccn-guideline.org/nsclc/1\",\n",
    "        \"nccn:page-key\": \"PROS-1\",\n",
    "        \"nccn:page-no\": 12,\n",
    "        \"nccn:nodelink\": \"http://localhost:8080/nscl.pdf?page=12&x=308.58&y=112.53&width=211.61&height=149.8\",\n",
    "        \"nccn:pagelink\": \"http://localhost:8080/nscl.pdf#page=12\",\n",
    "        \"nccn:bounds\": \"X=308.58,Y=112.53,W=211.61,H=149.8\",\n",
    "        \"nccn:labels\": [\n",
    "            \"http://nccn-guideline.org/nsclc/labels/1\"\n",
    "        ],\n",
    "        \"nccn:content\": \"\",\n",
    "        \"nccn:prev\": [\n",
    "            \"http://nccn-guideline.org/nsclc/0\"\n",
    "        ],\n",
    "        \"nccn:next\": [\n",
    "            \"http://nccn-guideline.org/nsclc/2\"\n",
    "        ],\n",
    "        \"nccn:contains\": [\n",
    "            \"http://nccn-guideline.org/nsclc/8\",\n",
    "            \"http://nccn-guideline.org/nsclc/9\",\n",
    "            \"http://nccn-guideline.org/nsclc/10\",\n",
    "            \"http://nccn-guideline.org/nsclc/11\",\n",
    "            \"http://nccn-guideline.org/nsclc/12\",\n",
    "            \"http://nccn-guideline.org/nsclc/13\",\n",
    "            \"http://nccn-guideline.org/nsclc/14\"\n",
    "        ]\n",
    "    },\n",
    "    {\n",
    "        \"@id\": \"http://nccn-guideline.org/nsclc/2\",\n",
    "        \"nccn:page-key\": \"PROS-1\",\n",
    "        \"nccn:page-no\": 12,\n",
    "        \"nccn:nodelink\": \"http://localhost:8080/nscl.pdf?page=12&x=599.04&y=159.95&width=146.1&height=43.88\",\n",
    "        \"nccn:pagelink\": \"http://localhost:8080/nscl.pdf#page=12\",\n",
    "        \"nccn:bounds\": \"X=599.04,Y=159.95,W=146.1,H=43.88\",\n",
    "        \"nccn:labels\": [],\n",
    "        \"nccn:content\": \"See Initial Risk Stratification and Staging Workup for Clinically Localized Disease (PROS-2)\",\n",
    "        \"nccn:prev\": [\n",
    "            \"http://nccn-guideline.org/nsclc/1\"\n",
    "        ]\n",
    "    },\n",
    "    {\n",
    "        \"@id\": \"http://nccn-guideline.org/nsclc/3\",\n",
    "        \"nccn:page-key\": \"PROS-1\",\n",
    "        \"nccn:page-no\": 12,\n",
    "        \"nccn:nodelink\": \"http://localhost:8080/nscl.pdf?page=12&x=23.55&y=303.08&width=116.76&height=19.88\",\n",
    "        \"nccn:pagelink\": \"http://localhost:8080/nscl.pdf#page=12\",\n",
    "        \"nccn:bounds\": \"X=23.55,Y=303.08,W=116.76,H=19.88\",\n",
    "        \"nccn:labels\": [\n",
    "            \"http://nccn-guideline.org/nsclc/labels/0\"\n",
    "        ],\n",
    "        \"nccn:mscore\": [\n",
    "            \"M0\"\n",
    "        ],\n",
    "        \"nccn:nscore\": [\n",
    "            \"N1\"\n",
    "        ],\n",
    "        \"nccn:content\": \"Regional prostate cancer (Any T, N1, M0)\",\n",
    "        \"nccn:next\": [\n",
    "            \"http://nccn-guideline.org/nsclc/5\"\n",
    "        ]\n",
    "    },\n",
    "    {\n",
    "        \"@id\": \"http://nccn-guideline.org/nsclc/4\",\n",
    "        \"nccn:page-key\": \"PROS-1\",\n",
    "        \"nccn:page-no\": 12,\n",
    "        \"nccn:nodelink\": \"http://localhost:8080/nscl.pdf?page=12&x=23.55&y=382.44&width=134.07&height=19.88\",\n",
    "        \"nccn:pagelink\": \"http://localhost:8080/nscl.pdf#page=12\",\n",
    "        \"nccn:bounds\": \"X=23.55,Y=382.44,W=134.07,H=19.88\",\n",
    "        \"nccn:labels\": [\n",
    "            \"http://nccn-guideline.org/nsclc/labels/0\"\n",
    "        ],\n",
    "        \"nccn:mscore\": [\n",
    "            \"M1\"\n",
    "        ],\n",
    "        \"nccn:content\": \"Metastatic prostate cancer (Any T, Any N, M1)\",\n",
    "        \"nccn:next\": [\n",
    "            \"http://nccn-guideline.org/nsclc/5\"\n",
    "        ]\n",
    "    },\n",
    "    {\n",
    "        \"@id\": \"http://nccn-guideline.org/nsclc/5\",\n",
    "        \"nccn:page-key\": \"PROS-1\",\n",
    "        \"nccn:page-no\": 12,\n",
    "        \"nccn:nodelink\": \"http://localhost:8080/nscl.pdf?page=12&x=307.84&y=281.31&width=215.92&height=127.8\",\n",
    "        \"nccn:pagelink\": \"http://localhost:8080/nscl.pdf#page=12\",\n",
    "        \"nccn:bounds\": \"X=307.84,Y=281.31,W=215.92,H=127.8\",\n",
    "        \"nccn:labels\": [\n",
    "            \"http://nccn-guideline.org/nsclc/labels/1\"\n",
    "        ],\n",
    "        \"nccn:content\": \"\",\n",
    "        \"nccn:prev\": [\n",
    "            \"http://nccn-guideline.org/nsclc/3\",\n",
    "            \"http://nccn-guideline.org/nsclc/4\"\n",
    "        ],\n",
    "        \"nccn:next\": [\n",
    "            \"http://nccn-guideline.org/nsclc/7\",\n",
    "            \"http://nccn-guideline.org/nsclc/6\"\n",
    "        ],\n",
    "        \"nccn:contains\": [\n",
    "            \"http://nccn-guideline.org/nsclc/15\",\n",
    "            \"http://nccn-guideline.org/nsclc/16\",\n",
    "            \"http://nccn-guideline.org/nsclc/17\",\n",
    "            \"http://nccn-guideline.org/nsclc/18\",\n",
    "            \"http://nccn-guideline.org/nsclc/19\",\n",
    "            \"http://nccn-guideline.org/nsclc/20\",\n",
    "            \"http://nccn-guideline.org/nsclc/21\"\n",
    "        ]\n",
    "    },\n",
    "    {\n",
    "        \"@id\": \"http://nccn-guideline.org/nsclc/6\",\n",
    "        \"nccn:page-key\": \"PROS-1\",\n",
    "        \"nccn:page-no\": 12,\n",
    "        \"nccn:nodelink\": \"http://localhost:8080/nscl.pdf?page=12&x=597.71&y=300.52&width=119.21&height=19.88\",\n",
    "        \"nccn:pagelink\": \"http://localhost:8080/nscl.pdf#page=12\",\n",
    "        \"nccn:bounds\": \"X=597.71,Y=300.52,W=119.21,H=19.88\",\n",
    "        \"nccn:labels\": [],\n",
    "        \"nccn:content\": \"See Regional Prostate Cancer (PROS-8)\",\n",
    "        \"nccn:prev\": [\n",
    "            \"http://nccn-guideline.org/nsclc/5\"\n",
    "        ],\n",
    "        \"nccn:next\": [\n",
    "            \"http://nccn-guideline.org/nsclc/95\",\n",
    "            \"http://nccn-guideline.org/nsclc/97\"\n",
    "        ]\n",
    "    },\n",
    "    {\n",
    "        \"@id\": \"http://nccn-guideline.org/nsclc/7\",\n",
    "        \"nccn:page-key\": \"PROS-1\",\n",
    "        \"nccn:page-no\": 12,\n",
    "        \"nccn:nodelink\": \"http://localhost:8080/nscl.pdf?page=12&x=597.71&y=377.57&width=156.49&height=31.88\",\n",
    "        \"nccn:pagelink\": \"http://localhost:8080/nscl.pdf#page=12\",\n",
    "        \"nccn:bounds\": \"X=597.71,Y=377.57,W=156.49,H=31.88\",\n",
    "        \"nccn:labels\": [],\n",
    "        \"nccn:mscore\": [\n",
    "            \"M1\"\n",
    "        ],\n",
    "        \"nccn:content\": \"Systemic Therapy for M1 Castration-Sensitive Prostate Cancer (CSPC) (PROS-13)\",\n",
    "        \"nccn:prev\": [\n",
    "            \"http://nccn-guideline.org/nsclc/5\"\n",
    "        ],\n",
    "        \"nccn:next\": [\n",
    "            \"http://nccn-guideline.org/nsclc/199\"\n",
    "        ]\n",
    "    },\n",
    "    {\n",
    "        \"@id\": \"http://nccn-guideline.org/nsclc/8\",\n",
    "        \"nccn:page-key\": \"PROS-1\",\n",
    "        \"nccn:page-no\": 12,\n",
    "        \"nccn:nodelink\": \"http://localhost:8080/nscl.pdf?page=12&x=308.59&y=112.53&width=109.98&height=6.8\",\n",
    "        \"nccn:pagelink\": \"http://localhost:8080/nscl.pdf#page=12\",\n",
    "        \"nccn:bounds\": \"X=308.59,Y=112.53,W=109.98,H=6.8\",\n",
    "        \"nccn:labels\": [\n",
    "            \"http://nccn-guideline.org/nsclc/labels/1\"\n",
    "        ],\n",
    "        \"nccn:content\": \"Perform physical exam\",\n",
    "        \"nccn:parent\": \"http://nccn-guideline.org/nsclc/1\"\n",
    "    },\n",
    "    {\n",
    "        \"@id\": \"http://nccn-guideline.org/nsclc/9\",\n",
    "        \"nccn:page-key\": \"PROS-1\",\n",
    "        \"nccn:page-no\": 12,\n",
    "        \"nccn:nodelink\": \"http://localhost:8080/nscl.pdf?page=12&x=308.59&y=123.53&width=208.68&height=17.8\",\n",
    "        \"nccn:pagelink\": \"http://localhost:8080/nscl.pdf#page=12\",\n",
    "        \"nccn:bounds\": \"X=308.59,Y=123.53,W=208.68,H=17.8\",\n",
    "        \"nccn:labels\": [\n",
    "            \"http://nccn-guideline.org/nsclc/labels/1\"\n",
    "        ],\n",
    "        \"nccn:content\": \"Perform digital rectal exam (DRE) to confirm clinical stage\",\n",
    "        \"nccn:parent\": \"http://nccn-guideline.org/nsclc/1\"\n",
    "    },\n",
    "    {\n",
    "        \"@id\": \"http://nccn-guideline.org/nsclc/10\",\n",
    "        \"nccn:page-key\": \"PROS-1\",\n",
    "        \"nccn:page-no\": 12,\n",
    "        \"nccn:nodelink\": \"http://localhost:8080/nscl.pdf?page=12&x=308.59&y=145.53&width=190.03&height=17.8\",\n",
    "        \"nccn:pagelink\": \"http://localhost:8080/nscl.pdf#page=12\",\n",
    "        \"nccn:bounds\": \"X=308.59,Y=145.53,W=190.03,H=17.8\",\n",
    "        \"nccn:labels\": [\n",
    "            \"http://nccn-guideline.org/nsclc/labels/1\"\n",
    "        ],\n",
    "        \"nccn:content\": \"Perform and/or collect prostate-specific antigen (PSA) and calculate PSA density\",\n",
    "        \"nccn:parent\": \"http://nccn-guideline.org/nsclc/1\"\n",
    "    },\n",
    "    {\n",
    "        \"@id\": \"http://nccn-guideline.org/nsclc/11\",\n",
    "        \"nccn:page-key\": \"PROS-1\",\n",
    "        \"nccn:page-no\": 12,\n",
    "        \"nccn:nodelink\": \"http://localhost:8080/nscl.pdf?page=12&x=308.59&y=167.54&width=180.71&height=17.8\",\n",
    "        \"nccn:pagelink\": \"http://localhost:8080/nscl.pdf#page=12\",\n",
    "        \"nccn:bounds\": \"X=308.59,Y=167.54,W=180.71,H=17.8\",\n",
    "        \"nccn:labels\": [\n",
    "            \"http://nccn-guideline.org/nsclc/labels/1\"\n",
    "        ],\n",
    "        \"nccn:content\": \"Obtain and review diagnostic prostate biopsies\",\n",
    "        \"nccn:parent\": \"http://nccn-guideline.org/nsclc/1\"\n",
    "    },\n",
    "    {\n",
    "        \"@id\": \"http://nccn-guideline.org/nsclc/12\",\n",
    "        \"nccn:page-key\": \"PROS-1\",\n",
    "        \"nccn:page-no\": 12,\n",
    "        \"nccn:nodelink\": \"http://localhost:8080/nscl.pdf?page=12&x=308.59&y=189.54&width=201.31&height=17.8\",\n",
    "        \"nccn:pagelink\": \"http://localhost:8080/nscl.pdf#page=12\",\n",
    "        \"nccn:bounds\": \"X=308.59,Y=189.54,W=201.31,H=17.8\",\n",
    "        \"nccn:labels\": [\n",
    "            \"http://nccn-guideline.org/nsclc/labels/1\"\n",
    "        ],\n",
    "        \"nccn:content\": \"Estimate life expectancy (Principles of Life Expectancy Estimation [PROS-A])\",\n",
    "        \"nccn:parent\": \"http://nccn-guideline.org/nsclc/1\"\n",
    "    },\n",
    "    {\n",
    "        \"@id\": \"http://nccn-guideline.org/nsclc/13\",\n",
    "        \"nccn:page-key\": \"PROS-1\",\n",
    "        \"nccn:page-no\": 12,\n",
    "        \"nccn:nodelink\": \"http://localhost:8080/nscl.pdf?page=12&x=308.58&y=211.54&width=211.61&height=39.79\",\n",
    "        \"nccn:pagelink\": \"http://localhost:8080/nscl.pdf#page=12\",\n",
    "        \"nccn:bounds\": \"X=308.58,Y=211.54,W=211.61,H=39.79\",\n",
    "        \"nccn:labels\": [\n",
    "            \"http://nccn-guideline.org/nsclc/labels/1\"\n",
    "        ],\n",
    "        \"nccn:content\": \"Inquire about known high-risk germline mutations and family history{d} Perform somatic and/or germline testing as appropriate{d}\",\n",
    "        \"nccn:parent\": \"http://nccn-guideline.org/nsclc/1\",\n",
    "        \"nccn:reference\": [\n",
    "            \"http://nccn-guideline.org/nsclc/footnote/d\"\n",
    "        ]\n",
    "    },\n",
    "    {\n",
    "        \"@id\": \"http://nccn-guideline.org/nsclc/14\",\n",
    "        \"nccn:page-key\": \"PROS-1\",\n",
    "        \"nccn:page-no\": 12,\n",
    "        \"nccn:nodelink\": \"http://localhost:8080/nscl.pdf?page=12&x=308.59&y=255.53&width=152.97&height=6.8\",\n",
    "        \"nccn:pagelink\": \"http://localhost:8080/nscl.pdf#page=12\",\n",
    "        \"nccn:bounds\": \"X=308.59,Y=255.53,W=152.97,H=6.8\",\n",
    "        \"nccn:labels\": [\n",
    "            \"http://nccn-guideline.org/nsclc/labels/1\"\n",
    "        ],\n",
    "        \"nccn:content\": \"Assess quality-of-life measures{e}\",\n",
    "        \"nccn:parent\": \"http://nccn-guideline.org/nsclc/1\",\n",
    "        \"nccn:reference\": [\n",
    "            \"http://nccn-guideline.org/nsclc/footnote/e\"\n",
    "        ]\n",
    "    },\n",
    "    {\n",
    "        \"@id\": \"http://nccn-guideline.org/nsclc/15\",\n",
    "        \"nccn:page-key\": \"PROS-1\",\n",
    "        \"nccn:page-no\": 12,\n",
    "        \"nccn:nodelink\": \"http://localhost:8080/nscl.pdf?page=12&x=307.85&y=281.31&width=112.62&height=6.8\",\n",
    "        \"nccn:pagelink\": \"http://localhost:8080/nscl.pdf#page=12\",\n",
    "        \"nccn:bounds\": \"X=307.85,Y=281.31,W=112.62,H=6.8\",\n",
    "        \"nccn:labels\": [\n",
    "            \"http://nccn-guideline.org/nsclc/labels/1\"\n",
    "        ],\n",
    "        \"nccn:content\": \"Perform physical exam\",\n",
    "        \"nccn:parent\": \"http://nccn-guideline.org/nsclc/5\"\n",
    "    },\n",
    "    {\n",
    "        \"@id\": \"http://nccn-guideline.org/nsclc/16\",\n",
    "        \"nccn:page-key\": \"PROS-1\",\n",
    "        \"nccn:page-no\": 12,\n",
    "        \"nccn:nodelink\": \"http://localhost:8080/nscl.pdf?page=12&x=307.85&y=292.31&width=150.06&height=6.8\",\n",
    "        \"nccn:pagelink\": \"http://localhost:8080/nscl.pdf#page=12\",\n",
    "        \"nccn:bounds\": \"X=307.85,Y=292.31,W=150.06,H=6.8\",\n",
    "        \"nccn:labels\": [\n",
    "            \"http://nccn-guideline.org/nsclc/labels/1\"\n",
    "        ],\n",
    "        \"nccn:content\": \"Perform imaging for staging{f,g,h}\",\n",
    "        \"nccn:parent\": \"http://nccn-guideline.org/nsclc/5\",\n",
    "        \"nccn:reference\": [\n",
    "            \"http://nccn-guideline.org/nsclc/footnote/f\",\n",
    "            \"http://nccn-guideline.org/nsclc/footnote/g\",\n",
    "            \"http://nccn-guideline.org/nsclc/footnote/h\"\n",
    "        ]\n",
    "    },\n",
    "    {\n",
    "        \"@id\": \"http://nccn-guideline.org/nsclc/17\",\n",
    "        \"nccn:page-key\": \"PROS-1\",\n",
    "        \"nccn:page-no\": 12,\n",
    "        \"nccn:nodelink\": \"http://localhost:8080/nscl.pdf?page=12&x=307.85&y=303.31&width=176.48&height=6.8\",\n",
    "        \"nccn:pagelink\": \"http://localhost:8080/nscl.pdf#page=12\",\n",
    "        \"nccn:bounds\": \"X=307.85,Y=303.31,W=176.48,H=6.8\",\n",
    "        \"nccn:labels\": [\n",
    "            \"http://nccn-guideline.org/nsclc/labels/1\"\n",
    "        ],\n",
    "        \"nccn:content\": \"Perform DRE to confirm clinical stage\",\n",
    "        \"nccn:parent\": \"http://nccn-guideline.org/nsclc/5\"\n",
    "    },\n",
    "    {\n",
    "        \"@id\": \"http://nccn-guideline.org/nsclc/18\",\n",
    "        \"nccn:page-key\": \"PROS-1\",\n",
    "        \"nccn:page-no\": 12,\n",
    "        \"nccn:nodelink\": \"http://localhost:8080/nscl.pdf?page=12&x=307.85&y=314.31&width=215.91&height=17.8\",\n",
    "        \"nccn:pagelink\": \"http://localhost:8080/nscl.pdf#page=12\",\n",
    "        \"nccn:bounds\": \"X=307.85,Y=314.31,W=215.91,H=17.8\",\n",
    "        \"nccn:labels\": [\n",
    "            \"http://nccn-guideline.org/nsclc/labels/1\"\n",
    "        ],\n",
    "        \"nccn:content\": \"Perform and/or collect PSA and calculate PSA doubling time (PSADT)\",\n",
    "        \"nccn:parent\": \"http://nccn-guideline.org/nsclc/5\"\n",
    "    },\n",
    "    {\n",
    "        \"@id\": \"http://nccn-guideline.org/nsclc/19\",\n",
    "        \"nccn:page-key\": \"PROS-1\",\n",
    "        \"nccn:page-no\": 12,\n",
    "        \"nccn:nodelink\": \"http://localhost:8080/nscl.pdf?page=12&x=307.85&y=336.31&width=201.31&height=17.8\",\n",
    "        \"nccn:pagelink\": \"http://localhost:8080/nscl.pdf#page=12\",\n",
    "        \"nccn:bounds\": \"X=307.85,Y=336.31,W=201.31,H=17.8\",\n",
    "        \"nccn:labels\": [\n",
    "            \"http://nccn-guideline.org/nsclc/labels/1\"\n",
    "        ],\n",
    "        \"nccn:content\": \"Estimate life expectancy (Principles of Life Expectancy Estimation [PROS-A])\",\n",
    "        \"nccn:parent\": \"http://nccn-guideline.org/nsclc/5\"\n",
    "    },\n",
    "    {\n",
    "        \"@id\": \"http://nccn-guideline.org/nsclc/20\",\n",
    "        \"nccn:page-key\": \"PROS-1\",\n",
    "        \"nccn:page-no\": 12,\n",
    "        \"nccn:nodelink\": \"http://localhost:8080/nscl.pdf?page=12&x=307.84&y=358.31&width=211.61&height=39.8\",\n",
    "        \"nccn:pagelink\": \"http://localhost:8080/nscl.pdf#page=12\",\n",
    "        \"nccn:bounds\": \"X=307.84,Y=358.31,W=211.61,H=39.8\",\n",
    "        \"nccn:labels\": [\n",
    "            \"http://nccn-guideline.org/nsclc/labels/1\"\n",
    "        ],\n",
    "        \"nccn:content\": \"Inquire about known high-risk germline mutations and family history{d} Perform somatic and/or germline testing as appropriate{d}\",\n",
    "        \"nccn:parent\": \"http://nccn-guideline.org/nsclc/5\",\n",
    "        \"nccn:reference\": [\n",
    "            \"http://nccn-guideline.org/nsclc/footnote/d\"\n",
    "        ]\n",
    "    },\n",
    "    {\n",
    "        \"@id\": \"http://nccn-guideline.org/nsclc/21\",\n",
    "        \"nccn:page-key\": \"PROS-1\",\n",
    "        \"nccn:page-no\": 12,\n",
    "        \"nccn:nodelink\": \"http://localhost:8080/nscl.pdf?page=12&x=307.85&y=402.31&width=152.97&height=6.8\",\n",
    "        \"nccn:pagelink\": \"http://localhost:8080/nscl.pdf#page=12\",\n",
    "        \"nccn:bounds\": \"X=307.85,Y=402.31,W=152.97,H=6.8\",\n",
    "        \"nccn:labels\": [\n",
    "            \"http://nccn-guideline.org/nsclc/labels/1\"\n",
    "        ],\n",
    "        \"nccn:content\": \"Assess quality-of-life measures{e}\",\n",
    "        \"nccn:parent\": \"http://nccn-guideline.org/nsclc/5\",\n",
    "        \"nccn:reference\": [\n",
    "            \"http://nccn-guideline.org/nsclc/footnote/e\"\n",
    "        ]\n",
    "    },\n",
    "    {\n",
    "        \"@id\": \"http://nccn-guideline.org/nsclc/22\",\n",
    "        \"nccn:page-key\": \"PROS-3\",\n",
    "        \"nccn:page-no\": 15,\n",
    "        \"nccn:nodelink\": \"http://localhost:8080/nscl.pdf?page=15&x=23.55&y=228.38&width=32.94&height=7.88\",\n",
    "        \"nccn:pagelink\": \"http://localhost:8080/nscl.pdf#page=15\",\n",
    "        \"nccn:bounds\": \"X=23.55,Y=228.38,W=32.94,H=7.88\",\n",
    "        \"nccn:labels\": [\n",
    "            \"http://nccn-guideline.org/nsclc/labels/4\",\n",
    "            \"http://nccn-guideline.org/nsclc/labels/5\"\n",
    "        ],\n",
    "        \"nccn:content\": \"≥10 y{o}\",\n",
    "        \"nccn:next\": [\n",
    "            \"http://nccn-guideline.org/nsclc/24\"\n",
    "        ],\n",
    "        \"nccn:reference\": [\n",
    "            \"http://nccn-guideline.org/nsclc/footnote/o\"\n",
    "        ]\n",
    "    },\n",
    "    {\n",
    "        \"@id\": \"http://nccn-guideline.org/nsclc/23\",\n",
    "        \"nccn:page-key\": \"PROS-3\",\n",
    "        \"nccn:page-no\": 15,\n",
    "        \"nccn:nodelink\": \"http://localhost:8080/nscl.pdf?page=15&x=564.57&y=204.37&width=151.0&height=55.88\",\n",
    "        \"nccn:pagelink\": \"http://localhost:8080/nscl.pdf#page=15\",\n",
    "        \"nccn:bounds\": \"X=564.57,Y=204.37,W=151.0,H=55.88\",\n",
    "        \"nccn:labels\": [],\n",
    "        \"nccn:content\": \"Progressive disease{s} See Initial Risk Stratification and Staging Workup for Clinically Localized Disease (PROS-2)\",\n",
    "        \"nccn:prev\": [\n",
    "            \"http://nccn-guideline.org/nsclc/24\"\n",
    "        ],\n",
    "        \"nccn:reference\": [\n",
    "            \"http://nccn-guideline.org/nsclc/footnote/s\"\n",
    "        ]\n",
    "    },\n",
    "    {\n",
    "        \"@id\": \"http://nccn-guideline.org/nsclc/24\",\n",
    "        \"nccn:page-key\": \"PROS-3\",\n",
    "        \"nccn:page-no\": 15,\n",
    "        \"nccn:nodelink\": \"http://localhost:8080/nscl.pdf?page=15&x=152.58&y=216.37&width=174.45&height=31.88\",\n",
    "        \"nccn:pagelink\": \"http://localhost:8080/nscl.pdf#page=15\",\n",
    "        \"nccn:bounds\": \"X=152.58,Y=216.37,W=174.45,H=31.88\",\n",
    "        \"nccn:labels\": [\n",
    "            \"http://nccn-guideline.org/nsclc/labels/4\",\n",
    "            \"http://nccn-guideline.org/nsclc/labels/6\"\n",
    "        ],\n",
    "        \"nccn:content\": \"Active surveillance{p,q} See Active Surveillance Program (PROS-F 2 of 5)\",\n",
    "        \"nccn:prev\": [\n",
    "            \"http://nccn-guideline.org/nsclc/22\"\n",
    "        ],\n",
    "        \"nccn:next\": [\n",
    "            \"http://nccn-guideline.org/nsclc/23\"\n",
    "        ],\n",
    "        \"nccn:reference\": [\n",
    "            \"http://nccn-guideline.org/nsclc/footnote/p\",\n",
    "            \"http://nccn-guideline.org/nsclc/footnote/q\"\n",
    "        ]\n",
    "    },\n",
    "    {\n",
    "        \"@id\": \"http://nccn-guideline.org/nsclc/25\",\n",
    "        \"nccn:page-key\": \"PROS-3\",\n",
    "        \"nccn:page-no\": 15,\n",
    "        \"nccn:nodelink\": \"http://localhost:8080/nscl.pdf?page=15&x=152.58&y=372.14&width=68.13&height=7.88\",\n",
    "        \"nccn:pagelink\": \"http://localhost:8080/nscl.pdf#page=15\",\n",
    "        \"nccn:bounds\": \"X=152.58,Y=372.14,W=68.13,H=7.88\",\n",
    "        \"nccn:labels\": [\n",
    "            \"http://nccn-guideline.org/nsclc/labels/4\",\n",
    "            \"http://nccn-guideline.org/nsclc/labels/6\"\n",
    "        ],\n",
    "        \"nccn:content\": \"Observationr\",\n",
    "        \"nccn:prev\": [\n",
    "            \"http://nccn-guideline.org/nsclc/26\"\n",
    "        ],\n",
    "        \"nccn:next\": [\n",
    "            \"http://nccn-guideline.org/nsclc/27\"\n",
    "        ],\n",
    "        \"nccn:reference\": [\n",
    "            \"http://nccn-guideline.org/nsclc/footnote/j\"\n",
    "        ]\n",
    "    }]\n",
    "}'''"
   ]
  },
  {
   "cell_type": "code",
   "execution_count": null,
   "metadata": {
    "id": "N3K8Py9Oz8x1"
   },
   "outputs": [],
   "source": [
    "source_doc = Document(\n",
    "    page_content=a)\n",
    "graph_doc = GraphDocument(\n",
    "    nodes=result_nodes,\n",
    "    relationships=relationships,\n",
    "    source=source_doc,\n",
    ")"
   ]
  },
  {
   "cell_type": "code",
   "execution_count": null,
   "metadata": {
    "id": "CPV8V3sW1Nyn"
   },
   "outputs": [],
   "source": [
    "graph.add_graph_documents([graph_doc])"
   ]
  },
  {
   "cell_type": "code",
   "execution_count": null,
   "metadata": {
    "id": "2oK7ewBi1UwE"
   },
   "outputs": [],
   "source": [
    "graph.refresh_schema()"
   ]
  },
  {
   "cell_type": "code",
   "execution_count": null,
   "metadata": {
    "colab": {
     "base_uri": "https://localhost:8080/"
    },
    "id": "uBiQRn4F1hZ-",
    "outputId": "0a5286e8-d38f-47d9-8fda-f17f6fb0e1fb"
   },
   "outputs": [
    {
     "name": "stdout",
     "output_type": "stream",
     "text": [
      "24\n",
      "23\n"
     ]
    }
   ],
   "source": [
    "print(len(result_nodes))\n",
    "print(len(relationships))"
   ]
  }
 ],
 "metadata": {
  "colab": {
   "provenance": []
  },
  "kernelspec": {
   "display_name": "ml_new",
   "language": "python",
   "name": "python3"
  },
  "language_info": {
   "codemirror_mode": {
    "name": "ipython",
    "version": 3
   },
   "file_extension": ".py",
   "mimetype": "text/x-python",
   "name": "python",
   "nbconvert_exporter": "python",
   "pygments_lexer": "ipython3",
   "version": "3.12.7"
  }
 },
 "nbformat": 4,
 "nbformat_minor": 0
}
